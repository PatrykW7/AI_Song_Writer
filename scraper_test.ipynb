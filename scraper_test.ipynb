{
 "cells": [
  {
   "cell_type": "code",
   "execution_count": 1,
   "metadata": {},
   "outputs": [],
   "source": [
    "import requests\n",
    "from bs4 import BeautifulSoup\n",
    "import re\n",
    "import pandas as pd\n",
    "import numpy as np\n",
    "\n",
    "pd.set_option(\"display.max_rows\", 500)\n",
    "pd.set_option(\"display.max_columns\", 500)\n",
    "pd.set_option(\"display.width\", 1000)\n",
    "pd.set_option(\"display.max_columns\", None)\n",
    "pd.set_option(\"max_colwidth\", 800)\n",
    "pd.set_option(\"display.max_colwidth\", None)\n",
    "\n",
    "import warnings\n",
    "\n",
    "warnings.simplefilter(action=\"ignore\", category=FutureWarning)"
   ]
  },
  {
   "cell_type": "code",
   "execution_count": 3,
   "metadata": {},
   "outputs": [
    {
     "data": {
      "text/plain": [
       "['sanah']"
      ]
     },
     "execution_count": 3,
     "metadata": {},
     "output_type": "execute_result"
    }
   ],
   "source": [
    "artists = [\"Sanah\"]\n",
    "\n",
    "artists = [x.replace(\" \", \"_\").lower() for x in artists]\n",
    "artists"
   ]
  },
  {
   "cell_type": "code",
   "execution_count": 14,
   "metadata": {},
   "outputs": [],
   "source": [
    "def song_scraper(artists: list):\n",
    "    dfs = []\n",
    "    df_text = pd.DataFrame(data={\"Original\": [], \"Translated\": []})\n",
    "\n",
    "    base_url = \"https://www.tekstowo.pl\"\n",
    "\n",
    "    for i in artists:\n",
    "        artist_url = (\n",
    "            f\"https://www.tekstowo.pl/piosenki_artysty,{i},alfabetycznie,strona,1.html\"\n",
    "        )\n",
    "\n",
    "        artist_page = requests.get(artist_url)\n",
    "        soup = BeautifulSoup(artist_page.text, \"lxml\")\n",
    "\n",
    "        max_num_page = soup.find_all(\"a\", class_=\"page-link\")[-2].text\n",
    "        max_num_page = int(max_num_page)\n",
    "\n",
    "        for num_page in range(1, max_num_page + 1):\n",
    "            boxes = soup.find_all(\"div\", class_=\"flex-group\")\n",
    "            songs_urls = {\"Url\": []}\n",
    "\n",
    "            for box in boxes:\n",
    "                try:\n",
    "                    url = box.find(\"a\", class_=\"title\").get(\"href\")\n",
    "                    song_url = base_url + url\n",
    "\n",
    "                    songs_urls[\"Url\"].append(song_url)\n",
    "                except:\n",
    "                    pass\n",
    "\n",
    "            df = pd.DataFrame(songs_urls)\n",
    "            dfs.append(df)\n",
    "\n",
    "            next_number_page = num_page + 1\n",
    "            next_page = f\"https://www.tekstowo.pl/piosenki_artysty,{i},alfabetycznie,strona,{next_number_page}.html\"\n",
    "\n",
    "            page = requests.get(next_page)\n",
    "            soup = BeautifulSoup(page.text, \"lxml\")\n",
    "\n",
    "    df_songs = pd.concat(dfs, ignore_index=True)\n",
    "\n",
    "    for _, row in df_songs.iterrows():\n",
    "        try:\n",
    "            song_page = requests.get(row[0])\n",
    "\n",
    "            soup = BeautifulSoup(song_page.text, \"lxml\")\n",
    "\n",
    "            original = soup.find_all(\"div\", class_=\"inner-text\")[0].text\n",
    "            translated = soup.find_all(\"div\", class_=\"inner-text\")[1].text\n",
    "            translated = np.nan if translated == \"\" else translated\n",
    "\n",
    "            if re.search(r\"[ąćęłńóśźżĄĆĘŁŃÓŚŹŻ]\", original):\n",
    "                df_text = pd.concat(\n",
    "                    [df_text, pd.DataFrame({\"Original\": [original], \"Translated\": [translated]})],\n",
    "                    ignore_index=True\n",
    "                )\n",
    "\n",
    "            else:\n",
    "                df_text = pd.concat(\n",
    "                    [df_text, pd.DataFrame({\"Original\": [translated], \"Translated\": [original]})],\n",
    "                    ignore_index=True\n",
    "                )\n",
    "        except:\n",
    "            pass \n",
    "\n",
    "    return df_text\n",
    "\n",
    "\n",
    "df = song_scraper(artists)"
   ]
  },
  {
   "cell_type": "code",
   "execution_count": 17,
   "metadata": {},
   "outputs": [
    {
     "data": {
      "text/html": [
       "<div>\n",
       "<style scoped>\n",
       "    .dataframe tbody tr th:only-of-type {\n",
       "        vertical-align: middle;\n",
       "    }\n",
       "\n",
       "    .dataframe tbody tr th {\n",
       "        vertical-align: top;\n",
       "    }\n",
       "\n",
       "    .dataframe thead th {\n",
       "        text-align: right;\n",
       "    }\n",
       "</style>\n",
       "<table border=\"1\" class=\"dataframe\">\n",
       "  <thead>\n",
       "    <tr style=\"text-align: right;\">\n",
       "      <th></th>\n",
       "      <th>Original</th>\n",
       "      <th>Translated</th>\n",
       "    </tr>\n",
       "  </thead>\n",
       "  <tbody>\n",
       "    <tr>\n",
       "      <th>0</th>\n",
       "      <td>Da Bóg kiedyś zasiąść w Polsce wolnej\\r\\nOd żyta złotej, od lasów szumiącej\\r\\nDa Bóg, a przyjdzie dzień nieustający\\r\\nDla srebrnych pługów udręki mozolnej\\r\\nJeszcze oddźwiękną kamienie na młoty\\r\\nI z twardym ziemią pogada lemieszem\\r\\nI z wszystkich jeszcze kamieni wykrzeszem\\r\\nIskier snop złoty\\n\\r\\nWięc gdy wiosennym oglądam wieczorem\\r\\nW mgły otuloną zagonów szarzyznę\\r\\nKtoś w moim sercu wykuwa toporem\\r\\nMoją Ojczyznę\\n\\r\\nWięc gdy wiosennym oglądam wieczorem\\r\\nW mgły otuloną zagonów szarzyznę\\r\\nKtoś w moim sercu wykuwa toporem\\r\\nMoją Ojczyznę</td>\n",
       "      <td>Let God someday take a seat in a free Poland\\nFrom golden rye, from forests rustling\\nGod will give, and the day will come without ceasing\\nFor the silver plows of toil\\nHammer stones will still sound\\nAnd talks with the hard earth with a plowshare\\nAnd from all the stones I will still make\\nGolden sheaf of sparks\\n\\nSo when I watch spring evening\\nGrayness wrapped in the mist\\nSomeone in my heart is forging with an axe\\nmy homeland\\n\\nSo when I watch spring evening\\nGrayness wrapped in the mist\\nSomeone in my heart is forging with an axe\\nmy homeland</td>\n",
       "    </tr>\n",
       "    <tr>\n",
       "      <th>1</th>\n",
       "      <td>Da Bóg kiedyś zasiąść w Polsce wolnej\\nOd żyta złotej, od lasów szumiącej\\nDa Bóg, a przyjdzie dzień nieustający\\nDla srebrnych pługów udręki mozolnej\\n\\nJeszcze oddźwiękną kamienie na młoty\\nI z twardym ziemią pogada lemieszem\\nI z wszystkich jeszcze kamieni wykrzeszem\\nIskier snop złoty\\n\\nWięc gdy wiosennym oglądam wieczorem\\nW mgły otuloną zagonów szarzyznę\\nKtoś w moim sercu wykuwa toporem\\nMoją Ojczyznę\\n\\nWięc gdy wiosennym oglądam wieczorem\\nW mgły otuloną zagonów szarzyznę\\nKtoś w moim sercu wykuwa toporem\\nMoją Ojczyznę\\n\\n[instrumental break]\\n\\nWięc gdy wiosennym oglądam wieczorem\\nW mgły otuloną zagonów szarzyznę\\nKtoś w moim sercu wykuwa toporem\\nMoją Ojczyznę\\n\\nWięc gdy wiosennym oglądam wieczorem\\nW mgły otuloną zagonów szarzyznę\\nKtoś w moim sercu wykuwa toporem\\nMoją Ojczyznę</td>\n",
       "      <td>Let God someday take a seat in a free Poland\\nFrom golden rye, from forests rustling\\nGod will give, and the day will come without ceasing\\nFor the silver plows of toil\\n\\nHammer stones will still sound\\nAnd talks with the hard earth with a plowshare\\nAnd from all the stones I will still make\\nGolden sheaf of sparks\\n\\nSo when I watch spring evening\\nGrayness wrapped in the mist\\nSomeone in my heart is forging with an axe\\nmy homeland\\n\\nSo when I watch spring evening\\nGrayness wrapped in the mist\\nSomeone in my heart is forging with an axe\\nmy homeland\\n\\n[instrumental break]\\n\\nSo when I watch spring evening\\nGrayness wrapped in the mist\\nSomeone in my heart is forging with an axe\\nmy homeland\\n\\nSo when I watch spring evening\\nGrayness wrapped in the mist\\nSomeone in my heart is forging with an axe\\nmy homeland</td>\n",
       "    </tr>\n",
       "    <tr>\n",
       "      <th>2</th>\n",
       "      <td>Hejka tu Sanah\\r\\nLaska od szampana\\r\\nO to posądzana\\r\\nŻe go pije\\r\\nZ rana\\r\\nZ rana\\n\\r\\nZeusa słuchałam\\r\\nGdy 18 lat miałam\\r\\nNominację od niego dostałam\\r\\nI tego\\r\\nChciałam\\r\\nChciałam\\r\\nChciałam\\r\\nChciałam\\n\\r\\nA ja o sobie mówię królowa dram\\r\\nMych łez uzbierałam już cały dzban\\r\\nMoże na piątej płycie będzie ich brak\\r\\nLecz dziś spory zapas ich mam\\n\\r\\nSzkoda, że\\r\\nCzas tak szybko płynie\\r\\nChwila, dwie\\r\\nA nutka ta przeminie\\r\\nMoże ktoś\\r\\nPrzy niej odpłynie\\n\\r\\nPiosnka ta\\r\\nMoże nie najlepsza\\r\\nAle płynie\\r\\nProsto z mego serca\\r\\nNawet jeśli\\r\\nNie jest wybitna\\n\\r\\nByły łezki, proszę pana\\r\\nMokry parkiet od szampana\\r\\nI koronki i buciki\\r\\nZnacie wszystkie moje triki\\r\\nUps\\r\\nZatem no cóż\\r\\nWrzucam na luz\\r\\nGdyby ktoś się pytał właśnie wyszła moja płyta</td>\n",
       "      <td>Hey, it's Sanah\\nThe champagne shawty\\nSuspected of\\nDrinking it\\nIn the morning\\nIn the morning\\n\\nI listened to Zeus\\nWhen I was 18\\nGot a nomination from him\\nAnd I\\nWanted it\\nWanted it\\nWanted it\\nWanted it\\n\\nI call myself the drama queen\\nI've already collected a whole jug of my tears\\nMaybe they'll be missing on the fifth album\\nBut today I have a lot of them\\n\\nIt's a pity that\\nTime goes by so fast\\nA moment or two\\nAnd this tune'll be gone\\nMaybe someone\\nWill float with it\\n\\nThis song\\nMight not be the best\\nBut it flows\\nStraight from my heart\\nEven if\\nIt's not outstanding\\n\\nThere were tears, sir\\nDancefloor wet from champagne\\nLaces and shoes\\nYou know all my tricks\\nOops\\nWell then\\nI'm gonna chilld out\\nIn case people ask, my record's just dropped</td>\n",
       "    </tr>\n",
       "    <tr>\n",
       "      <th>3</th>\n",
       "      <td>Nie wiem, czy to miało sens\\r\\nHulać tak, hulać tak kolejny raz...\\r\\nCarpe diem z dnia na dzień,\\r\\nA potem sza, cicho sza, cicho sza...\\n\\r\\nSorka za ten telefon dzisiaj o drugiej w nocy,\\r\\nTylko chciałam pomocy i Ciebie...\\r\\nW słuchawce słyszałam śmiech.\\r\\nNaiwna ja, naiwna ja\\n\\r\\nMogłam mówić co myślę na cały głos,\\r\\nMogłam nie brać do siebie, gdy zranił ktoś,\\r\\nMogłam trzymać Cię mocniej, gdy chciałeś iść,\\r\\nMogłam tak, mogłam tak...\\n\\r\\nMogłam wziąć Cię do tańca ostatni raz\\r\\nI obiecać, że parkiet jest tylko nasz.\\r\\nTeraz jakoś magicznie chcę cofnąć czas,\\r\\nMogłam tak, mogłam tak\\n\\r\\nCzemu jak ten śniegu puch to wraca znów\\r\\nWraca znów, wraca znów?\\r\\nCzemu po tej stronie rzęs tęsknię ciut\\r\\nTęsknię ciut, tęsknię ciut?\\n\\r\\nSorka za ten telefon dzisiaj o drugiej w nocy,\\r\\nTylko chciałam pomocy i Ciebie...\\r\\nW słuchawce słyszałam śmiech,\\r\\nNaiwna ja, za naiwna ja.\\n\\r\\nMogłam mówić, co myślę na cały głos,\\r\\nMogłam nie brać do siebie, gdy zranił ktoś,\\r\\nMogłam trzymać Cię mocniej, gdy chciałeś iść,\\r\\nMogłam tak, mogłam tak.\\n\\r\\nMogłam wziąć Cię do tańca ostatni raz,\\r\\nI obiecać, że parkiet jest tylko nasz.\\r\\nTeraz jakoś magicznie chcę cofnąć czas,\\r\\nMogłam tak, mogłam tak...\\n\\r\\nMogłam tak, mogłam tak...\\r\\nMogłam tak, mogłam tak...\\n\\r\\nSzkoda, że puściłam Cię,\\r\\nNie chciałam tak, nie chciałam tak...</td>\n",
       "      <td>I don't know if that made a sense\\nTo romp like that, romp like that once again\\nCarpe diem from day to day\\nAnd then was silence, silence, silence\\n\\nSorry for that call at two am\\nI just wanted some help and you\\nI heard laughter in the earpiece\\nNaive me, naive me\\n\\nI could've spoken my mind out loud\\nI could've not taken it personally when someone hurt me\\nI could've held you tighter when you wanted to go\\nI could've done that, I could've done that\\n\\nI could have taken you to dance one last time\\nAnd promised you the dancefloor was only ours\\nNow I want to magically turn back time somehow\\nI could've done that, I could've done that\\n\\nWhy, like this snow fluff, it's coming back again\\nComing back again, coming back again\\nWhy do I miss you a little at this side of my eyelashes?\\nI miss you a little, I miss you a little\\n\\nSorry for that call at two am\\nI just wanted some help and you\\nI heard laughter in the earpiece\\nNaive me, naive me\\n\\nI could've spoken my mind out loud\\nI could've not taken it personally when someone hurt me\\nI could've held you tighter when you wanted to go\\nI could've done that, I could've done that\\n\\nI could have taken you to dance one last time\\nAnd promised you the dancefloor was only ours\\nNow I want to magically turn back time somehow\\nI could've done that, I could've done that\\n\\nI could've done that, I could've done that\\nI could've done that, I could've done that\\n\\nI wish I didn't let you go\\nI didn't mean to I didn't mean to</td>\n",
       "    </tr>\n",
       "    <tr>\n",
       "      <th>4</th>\n",
       "      <td>Trochę głupio że poszłam tam\\r\\nNie wiem sama czy po kolei w głowie mam\\r\\nJuż widzę, że na sali rządzi tiul\\r\\nDo ciebie ustawia się dziewcząt sznur\\n\\r\\nHola hola stop \\r\\nNie stanę w tej kolejce\\r\\nChyba że to ty\\r\\nWeźmiesz moją rękę\\r\\nDuszno tutaj mi\\r\\nKiedy się tak gapisz\\r\\nGapisz\\n\\r\\nJego dłoń\\r\\nNa mej talii\\r\\nZ jego ust\\r\\nJak płynący miód\\r\\nMoja miła\\r\\nMoja miła\\r\\nPrzetańczymy noc\\n\\r\\nJego skroń\\r\\nBlisko mojej \\r\\nJa gubię krok\\r\\nKiedy mówi znów\\r\\nMoja miła\\r\\nMoja miła\\r\\nPrzetańczymy noc\\n\\r\\nNa na na na na\\r\\nNa na na na na\\r\\nNa na na na na\\n\\r\\nCzy mi się zdaje czy masz na oku inną już\\r\\nMoże to jej fryz a może fiołkowy tiul\\r\\nHola hola stop\\r\\nWiem już o co chodzi\\r\\nŁezka ma ciebie nie obchodzi\\r\\nBoli mnie to kiedy się tak gapisz\\r\\nGapisz\\n\\r\\nJego dłoń\\r\\nNa mej talii\\r\\nZ jego ust\\r\\nJak płynący miód\\r\\nMoja miła\\r\\nMoja miła\\r\\nPrzetańczymy noc\\n\\r\\nJego skroń\\r\\nBlisko mojej \\r\\nJa gubię krok\\r\\nKiedy mówi znów\\r\\nMoja miła\\r\\nMoja miła\\r\\nPrzetańczymy noc\\n\\r\\nNa na na na na\\r\\nNa na na na na\\r\\nNa na na na na\\n\\r\\nWiedziałam, że to prostak i cham\\r\\nDo lisich oczu ja czuja mam\\r\\nMówi mi bliżej chciałbym Cię mieć\\r\\nA ja bym mu dała 2/10\\n\\r\\nWiedziałam, że to prostak i cham\\r\\nDo lisich oczu ja czuja mam\\r\\nMówi mi bliżej chciałbym Cię mieć\\r\\nA ja bym mu dała 2/10\\n\\r\\nJego dłoń\\r\\nNa mej talii\\r\\nZ jego ust\\r\\nJak płynący miód\\r\\nMoja miła\\r\\nMoja miła\\r\\nPrzetańczymy noc \\n\\r\\nJego skroń\\r\\nBlisko mojej \\r\\nJa gubię krok\\r\\nKiedy mówi znów\\r\\nMoja miła\\r\\nMoja miła\\r\\nPrzetańczymy noc\\n\\r\\nNa na na na na</td>\n",
       "      <td>It's kinda silly that I went there\\nI don't know if I have one in my head\\nI can already see that tulle rules the room\\nA rope is set up for you\\n\\nHola hola stop\\nI'm not in this line\\nUnless it's you\\nYou will take my hand\\nI'm choking in here\\nWhen you stare like that\\nYou stare\\n\\nHis hand\\nOn my waist\\nFrom his mouth\\nLike flowing honey\\nMy dear\\nMy dear\\nWe'll dance the night away\\n\\nHis temple\\nClose to mine\\nI miss a step\\nWhen he speaks again\\nMy dear\\nMy dear\\nWe'll dance the night away\\n\\nNa na na na na\\nNa na na na na\\nNa na na na na\\n\\nDo you think you have another eye on it?\\nMaybe it's her frieze or maybe the violet tulle\\nHola hola stop\\nI already know what's going on\\nThe tear has you don't care\\nIt hurts when you stare like that\\nYou stare\\n\\nHis hand\\nOn my waist\\nFrom his mouth\\nLike flowing honey\\nMy dear\\nMy dear\\nWe'll dance the night away\\n\\nHis temple\\nClose to mine\\nI miss a step\\nWhen he speaks again\\nMy dear\\nMy dear\\nWe'll dance the night away\\n\\nNa na na na na\\nNa na na na na\\nNa na na na na\\n\\nI knew he was a simpleton and a boor\\nI have a feeling for fox eyes\\nIt tells me closer I wish I had you\\nAnd I would give him 2/10\\n\\nI knew he was a simpleton and a boor\\nI have a feeling for fox eyes\\nIt tells me closer I wish I had you\\nAnd I would give him 2/10\\n\\nHis hand\\nOn my waist\\nFrom his mouth\\nLike flowing honey\\nMy dear\\nMy dear\\nWe'll dance the night away\\n\\nHis temple\\nClose to mine\\nI miss a step\\nWhen he speaks again\\nMy dear\\nMy dear\\nWe'll dance the night away\\n\\nNa na na na na</td>\n",
       "    </tr>\n",
       "  </tbody>\n",
       "</table>\n",
       "</div>"
      ],
      "text/plain": [
       "                                                                                                                                                                                                                                                                                                                                                                                                                                                                                                                                                                                                                                                                                                                                                                                                                                                                                                                                                                                                                                                                                                                                                                                                                                                                                                                                                                                                                                                                                                                                                                                                                               Original  \\\n",
       "0                                                                                                                                                                                                                                                                                                                                                                                                                                                                                                                                                                                                                                                                                                                                                                                                                                                                                                                                                                                                                                                   Da Bóg kiedyś zasiąść w Polsce wolnej\\r\\nOd żyta złotej, od lasów szumiącej\\r\\nDa Bóg, a przyjdzie dzień nieustający\\r\\nDla srebrnych pługów udręki mozolnej\\r\\nJeszcze oddźwiękną kamienie na młoty\\r\\nI z twardym ziemią pogada lemieszem\\r\\nI z wszystkich jeszcze kamieni wykrzeszem\\r\\nIskier snop złoty\\n\\r\\nWięc gdy wiosennym oglądam wieczorem\\r\\nW mgły otuloną zagonów szarzyznę\\r\\nKtoś w moim sercu wykuwa toporem\\r\\nMoją Ojczyznę\\n\\r\\nWięc gdy wiosennym oglądam wieczorem\\r\\nW mgły otuloną zagonów szarzyznę\\r\\nKtoś w moim sercu wykuwa toporem\\r\\nMoją Ojczyznę   \n",
       "1                                                                                                                                                                                                                                                                                                                                                                                                                                                                                                                                                                                                                                                                                                                                                                                                 Da Bóg kiedyś zasiąść w Polsce wolnej\\nOd żyta złotej, od lasów szumiącej\\nDa Bóg, a przyjdzie dzień nieustający\\nDla srebrnych pługów udręki mozolnej\\n\\nJeszcze oddźwiękną kamienie na młoty\\nI z twardym ziemią pogada lemieszem\\nI z wszystkich jeszcze kamieni wykrzeszem\\nIskier snop złoty\\n\\nWięc gdy wiosennym oglądam wieczorem\\nW mgły otuloną zagonów szarzyznę\\nKtoś w moim sercu wykuwa toporem\\nMoją Ojczyznę\\n\\nWięc gdy wiosennym oglądam wieczorem\\nW mgły otuloną zagonów szarzyznę\\nKtoś w moim sercu wykuwa toporem\\nMoją Ojczyznę\\n\\n[instrumental break]\\n\\nWięc gdy wiosennym oglądam wieczorem\\nW mgły otuloną zagonów szarzyznę\\nKtoś w moim sercu wykuwa toporem\\nMoją Ojczyznę\\n\\nWięc gdy wiosennym oglądam wieczorem\\nW mgły otuloną zagonów szarzyznę\\nKtoś w moim sercu wykuwa toporem\\nMoją Ojczyznę   \n",
       "2                                                                                                                                                                                                                                                                                                                                                                                                                                                                                                                                                                                                                                                                                                                                                                                                          Hejka tu Sanah\\r\\nLaska od szampana\\r\\nO to posądzana\\r\\nŻe go pije\\r\\nZ rana\\r\\nZ rana\\n\\r\\nZeusa słuchałam\\r\\nGdy 18 lat miałam\\r\\nNominację od niego dostałam\\r\\nI tego\\r\\nChciałam\\r\\nChciałam\\r\\nChciałam\\r\\nChciałam\\n\\r\\nA ja o sobie mówię królowa dram\\r\\nMych łez uzbierałam już cały dzban\\r\\nMoże na piątej płycie będzie ich brak\\r\\nLecz dziś spory zapas ich mam\\n\\r\\nSzkoda, że\\r\\nCzas tak szybko płynie\\r\\nChwila, dwie\\r\\nA nutka ta przeminie\\r\\nMoże ktoś\\r\\nPrzy niej odpłynie\\n\\r\\nPiosnka ta\\r\\nMoże nie najlepsza\\r\\nAle płynie\\r\\nProsto z mego serca\\r\\nNawet jeśli\\r\\nNie jest wybitna\\n\\r\\nByły łezki, proszę pana\\r\\nMokry parkiet od szampana\\r\\nI koronki i buciki\\r\\nZnacie wszystkie moje triki\\r\\nUps\\r\\nZatem no cóż\\r\\nWrzucam na luz\\r\\nGdyby ktoś się pytał właśnie wyszła moja płyta   \n",
       "3                                                                                                                                                                                                                              Nie wiem, czy to miało sens\\r\\nHulać tak, hulać tak kolejny raz...\\r\\nCarpe diem z dnia na dzień,\\r\\nA potem sza, cicho sza, cicho sza...\\n\\r\\nSorka za ten telefon dzisiaj o drugiej w nocy,\\r\\nTylko chciałam pomocy i Ciebie...\\r\\nW słuchawce słyszałam śmiech.\\r\\nNaiwna ja, naiwna ja\\n\\r\\nMogłam mówić co myślę na cały głos,\\r\\nMogłam nie brać do siebie, gdy zranił ktoś,\\r\\nMogłam trzymać Cię mocniej, gdy chciałeś iść,\\r\\nMogłam tak, mogłam tak...\\n\\r\\nMogłam wziąć Cię do tańca ostatni raz\\r\\nI obiecać, że parkiet jest tylko nasz.\\r\\nTeraz jakoś magicznie chcę cofnąć czas,\\r\\nMogłam tak, mogłam tak\\n\\r\\nCzemu jak ten śniegu puch to wraca znów\\r\\nWraca znów, wraca znów?\\r\\nCzemu po tej stronie rzęs tęsknię ciut\\r\\nTęsknię ciut, tęsknię ciut?\\n\\r\\nSorka za ten telefon dzisiaj o drugiej w nocy,\\r\\nTylko chciałam pomocy i Ciebie...\\r\\nW słuchawce słyszałam śmiech,\\r\\nNaiwna ja, za naiwna ja.\\n\\r\\nMogłam mówić, co myślę na cały głos,\\r\\nMogłam nie brać do siebie, gdy zranił ktoś,\\r\\nMogłam trzymać Cię mocniej, gdy chciałeś iść,\\r\\nMogłam tak, mogłam tak.\\n\\r\\nMogłam wziąć Cię do tańca ostatni raz,\\r\\nI obiecać, że parkiet jest tylko nasz.\\r\\nTeraz jakoś magicznie chcę cofnąć czas,\\r\\nMogłam tak, mogłam tak...\\n\\r\\nMogłam tak, mogłam tak...\\r\\nMogłam tak, mogłam tak...\\n\\r\\nSzkoda, że puściłam Cię,\\r\\nNie chciałam tak, nie chciałam tak...   \n",
       "4  Trochę głupio że poszłam tam\\r\\nNie wiem sama czy po kolei w głowie mam\\r\\nJuż widzę, że na sali rządzi tiul\\r\\nDo ciebie ustawia się dziewcząt sznur\\n\\r\\nHola hola stop \\r\\nNie stanę w tej kolejce\\r\\nChyba że to ty\\r\\nWeźmiesz moją rękę\\r\\nDuszno tutaj mi\\r\\nKiedy się tak gapisz\\r\\nGapisz\\n\\r\\nJego dłoń\\r\\nNa mej talii\\r\\nZ jego ust\\r\\nJak płynący miód\\r\\nMoja miła\\r\\nMoja miła\\r\\nPrzetańczymy noc\\n\\r\\nJego skroń\\r\\nBlisko mojej \\r\\nJa gubię krok\\r\\nKiedy mówi znów\\r\\nMoja miła\\r\\nMoja miła\\r\\nPrzetańczymy noc\\n\\r\\nNa na na na na\\r\\nNa na na na na\\r\\nNa na na na na\\n\\r\\nCzy mi się zdaje czy masz na oku inną już\\r\\nMoże to jej fryz a może fiołkowy tiul\\r\\nHola hola stop\\r\\nWiem już o co chodzi\\r\\nŁezka ma ciebie nie obchodzi\\r\\nBoli mnie to kiedy się tak gapisz\\r\\nGapisz\\n\\r\\nJego dłoń\\r\\nNa mej talii\\r\\nZ jego ust\\r\\nJak płynący miód\\r\\nMoja miła\\r\\nMoja miła\\r\\nPrzetańczymy noc\\n\\r\\nJego skroń\\r\\nBlisko mojej \\r\\nJa gubię krok\\r\\nKiedy mówi znów\\r\\nMoja miła\\r\\nMoja miła\\r\\nPrzetańczymy noc\\n\\r\\nNa na na na na\\r\\nNa na na na na\\r\\nNa na na na na\\n\\r\\nWiedziałam, że to prostak i cham\\r\\nDo lisich oczu ja czuja mam\\r\\nMówi mi bliżej chciałbym Cię mieć\\r\\nA ja bym mu dała 2/10\\n\\r\\nWiedziałam, że to prostak i cham\\r\\nDo lisich oczu ja czuja mam\\r\\nMówi mi bliżej chciałbym Cię mieć\\r\\nA ja bym mu dała 2/10\\n\\r\\nJego dłoń\\r\\nNa mej talii\\r\\nZ jego ust\\r\\nJak płynący miód\\r\\nMoja miła\\r\\nMoja miła\\r\\nPrzetańczymy noc \\n\\r\\nJego skroń\\r\\nBlisko mojej \\r\\nJa gubię krok\\r\\nKiedy mówi znów\\r\\nMoja miła\\r\\nMoja miła\\r\\nPrzetańczymy noc\\n\\r\\nNa na na na na   \n",
       "\n",
       "                                                                                                                                                                                                                                                                                                                                                                                                                                                                                                                                                                                                                                                                                                                                                                                                                                                                                                                                                                                                                                                                                                                                                                                                                                                                                                                                                                                                                                                                                                                                                                                                Translated  \n",
       "0                                                                                                                                                                                                                                                                                                                                                                                                                                                                                                                                                                                                                                                                                                                                                                                                                                                                                                                                                                                                                            Let God someday take a seat in a free Poland\\nFrom golden rye, from forests rustling\\nGod will give, and the day will come without ceasing\\nFor the silver plows of toil\\nHammer stones will still sound\\nAnd talks with the hard earth with a plowshare\\nAnd from all the stones I will still make\\nGolden sheaf of sparks\\n\\nSo when I watch spring evening\\nGrayness wrapped in the mist\\nSomeone in my heart is forging with an axe\\nmy homeland\\n\\nSo when I watch spring evening\\nGrayness wrapped in the mist\\nSomeone in my heart is forging with an axe\\nmy homeland  \n",
       "1                                                                                                                                                                                                                                                                                                                                                                                                                                                                                                                                                                                                                                                                                                                                                Let God someday take a seat in a free Poland\\nFrom golden rye, from forests rustling\\nGod will give, and the day will come without ceasing\\nFor the silver plows of toil\\n\\nHammer stones will still sound\\nAnd talks with the hard earth with a plowshare\\nAnd from all the stones I will still make\\nGolden sheaf of sparks\\n\\nSo when I watch spring evening\\nGrayness wrapped in the mist\\nSomeone in my heart is forging with an axe\\nmy homeland\\n\\nSo when I watch spring evening\\nGrayness wrapped in the mist\\nSomeone in my heart is forging with an axe\\nmy homeland\\n\\n[instrumental break]\\n\\nSo when I watch spring evening\\nGrayness wrapped in the mist\\nSomeone in my heart is forging with an axe\\nmy homeland\\n\\nSo when I watch spring evening\\nGrayness wrapped in the mist\\nSomeone in my heart is forging with an axe\\nmy homeland  \n",
       "2                                                                                                                                                                                                                                                                                                                                                                                                                                                                                                                                                                                                                                                                                                                                                                                                 Hey, it's Sanah\\nThe champagne shawty\\nSuspected of\\nDrinking it\\nIn the morning\\nIn the morning\\n\\nI listened to Zeus\\nWhen I was 18\\nGot a nomination from him\\nAnd I\\nWanted it\\nWanted it\\nWanted it\\nWanted it\\n\\nI call myself the drama queen\\nI've already collected a whole jug of my tears\\nMaybe they'll be missing on the fifth album\\nBut today I have a lot of them\\n\\nIt's a pity that\\nTime goes by so fast\\nA moment or two\\nAnd this tune'll be gone\\nMaybe someone\\nWill float with it\\n\\nThis song\\nMight not be the best\\nBut it flows\\nStraight from my heart\\nEven if\\nIt's not outstanding\\n\\nThere were tears, sir\\nDancefloor wet from champagne\\nLaces and shoes\\nYou know all my tricks\\nOops\\nWell then\\nI'm gonna chilld out\\nIn case people ask, my record's just dropped  \n",
       "3                                                        I don't know if that made a sense\\nTo romp like that, romp like that once again\\nCarpe diem from day to day\\nAnd then was silence, silence, silence\\n\\nSorry for that call at two am\\nI just wanted some help and you\\nI heard laughter in the earpiece\\nNaive me, naive me\\n\\nI could've spoken my mind out loud\\nI could've not taken it personally when someone hurt me\\nI could've held you tighter when you wanted to go\\nI could've done that, I could've done that\\n\\nI could have taken you to dance one last time\\nAnd promised you the dancefloor was only ours\\nNow I want to magically turn back time somehow\\nI could've done that, I could've done that\\n\\nWhy, like this snow fluff, it's coming back again\\nComing back again, coming back again\\nWhy do I miss you a little at this side of my eyelashes?\\nI miss you a little, I miss you a little\\n\\nSorry for that call at two am\\nI just wanted some help and you\\nI heard laughter in the earpiece\\nNaive me, naive me\\n\\nI could've spoken my mind out loud\\nI could've not taken it personally when someone hurt me\\nI could've held you tighter when you wanted to go\\nI could've done that, I could've done that\\n\\nI could have taken you to dance one last time\\nAnd promised you the dancefloor was only ours\\nNow I want to magically turn back time somehow\\nI could've done that, I could've done that\\n\\nI could've done that, I could've done that\\nI could've done that, I could've done that\\n\\nI wish I didn't let you go\\nI didn't mean to I didn't mean to  \n",
       "4  It's kinda silly that I went there\\nI don't know if I have one in my head\\nI can already see that tulle rules the room\\nA rope is set up for you\\n\\nHola hola stop\\nI'm not in this line\\nUnless it's you\\nYou will take my hand\\nI'm choking in here\\nWhen you stare like that\\nYou stare\\n\\nHis hand\\nOn my waist\\nFrom his mouth\\nLike flowing honey\\nMy dear\\nMy dear\\nWe'll dance the night away\\n\\nHis temple\\nClose to mine\\nI miss a step\\nWhen he speaks again\\nMy dear\\nMy dear\\nWe'll dance the night away\\n\\nNa na na na na\\nNa na na na na\\nNa na na na na\\n\\nDo you think you have another eye on it?\\nMaybe it's her frieze or maybe the violet tulle\\nHola hola stop\\nI already know what's going on\\nThe tear has you don't care\\nIt hurts when you stare like that\\nYou stare\\n\\nHis hand\\nOn my waist\\nFrom his mouth\\nLike flowing honey\\nMy dear\\nMy dear\\nWe'll dance the night away\\n\\nHis temple\\nClose to mine\\nI miss a step\\nWhen he speaks again\\nMy dear\\nMy dear\\nWe'll dance the night away\\n\\nNa na na na na\\nNa na na na na\\nNa na na na na\\n\\nI knew he was a simpleton and a boor\\nI have a feeling for fox eyes\\nIt tells me closer I wish I had you\\nAnd I would give him 2/10\\n\\nI knew he was a simpleton and a boor\\nI have a feeling for fox eyes\\nIt tells me closer I wish I had you\\nAnd I would give him 2/10\\n\\nHis hand\\nOn my waist\\nFrom his mouth\\nLike flowing honey\\nMy dear\\nMy dear\\nWe'll dance the night away\\n\\nHis temple\\nClose to mine\\nI miss a step\\nWhen he speaks again\\nMy dear\\nMy dear\\nWe'll dance the night away\\n\\nNa na na na na  "
      ]
     },
     "execution_count": 17,
     "metadata": {},
     "output_type": "execute_result"
    }
   ],
   "source": [
    "df.head()"
   ]
  },
  {
   "cell_type": "code",
   "execution_count": 18,
   "metadata": {},
   "outputs": [
    {
     "data": {
      "text/plain": [
       "0"
      ]
     },
     "execution_count": 18,
     "metadata": {},
     "output_type": "execute_result"
    }
   ],
   "source": [
    "df.duplicated().sum()"
   ]
  }
 ],
 "metadata": {
  "kernelspec": {
   "display_name": "Python 3",
   "language": "python",
   "name": "python3"
  },
  "language_info": {
   "codemirror_mode": {
    "name": "ipython",
    "version": 3
   },
   "file_extension": ".py",
   "mimetype": "text/x-python",
   "name": "python",
   "nbconvert_exporter": "python",
   "pygments_lexer": "ipython3",
   "version": "3.10.9"
  },
  "orig_nbformat": 4
 },
 "nbformat": 4,
 "nbformat_minor": 2
}
