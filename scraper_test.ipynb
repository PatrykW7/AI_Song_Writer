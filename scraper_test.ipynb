{
 "cells": [
  {
   "cell_type": "code",
   "execution_count": 1,
   "metadata": {},
   "outputs": [],
   "source": [
    "import requests\n",
    "from bs4 import BeautifulSoup\n",
    "import re\n",
    "import pandas as pd\n",
    "import numpy as np\n",
    "\n",
    "pd.set_option(\"display.max_rows\", 500)\n",
    "pd.set_option(\"display.max_columns\", 500)\n",
    "pd.set_option(\"display.width\", 1000)\n",
    "pd.set_option(\"display.max_columns\", None)\n",
    "pd.set_option(\"max_colwidth\", 800)\n",
    "pd.set_option(\"display.max_colwidth\", None)\n",
    "\n",
    "import warnings\n",
    "\n",
    "warnings.simplefilter(action=\"ignore\", category=FutureWarning)"
   ]
  },
  {
   "cell_type": "code",
   "execution_count": 3,
   "metadata": {},
   "outputs": [
    {
     "data": {
      "text/plain": [
       "['sanah']"
      ]
     },
     "execution_count": 3,
     "metadata": {},
     "output_type": "execute_result"
    }
   ],
   "source": [
    "artists = [\"Sanah\"]\n",
    "\n",
    "artists = [x.replace(\" \", \"_\").lower() for x in artists]\n",
    "artists"
   ]
  },
  {
   "cell_type": "code",
   "execution_count": 7,
   "metadata": {},
   "outputs": [],
   "source": [
    "def song_scraper(artists: list):\n",
    "    dfs = []\n",
    "    df_text = pd.DataFrame(data={\"Original\": [], \"Translated\": []})\n",
    "\n",
    "    part_link = \"https://www.tekstowo.pl\"\n",
    "\n",
    "    for i in artists:\n",
    "        artist_link = (\n",
    "            f\"https://www.tekstowo.pl/piosenki_artysty,{i},alfabetycznie,strona,1.html\"\n",
    "        )\n",
    "\n",
    "        page = requests.get(artist_link)\n",
    "        soup = BeautifulSoup(page.text, \"lxml\")\n",
    "\n",
    "        max_num_page = soup.find_all(\"a\", class_=\"page-link\")[-2].text\n",
    "        max_num_page = int(max_num_page)\n",
    "\n",
    "        for num_page in range(1, max_num_page + 1):\n",
    "            boxes = soup.find_all(\"div\", class_=\"flex-group\")\n",
    "            data = {\"Link\": []}\n",
    "\n",
    "            for box in boxes:\n",
    "                try:\n",
    "                    link = box.find(\"a\", class_=\"title\").get(\"href\")\n",
    "                    song_link = part_link + link\n",
    "\n",
    "                    data[\"Link\"].append(song_link)\n",
    "                except:\n",
    "                    pass\n",
    "\n",
    "            df = pd.DataFrame(data)\n",
    "            dfs.append(df)\n",
    "\n",
    "            next_number_page = num_page + 1\n",
    "            next_page = f\"https://www.tekstowo.pl/piosenki_artysty,{i},alfabetycznie,strona,{next_number_page}.html\"\n",
    "\n",
    "            page = requests.get(next_page)\n",
    "            soup = BeautifulSoup(page.text, \"lxml\")\n",
    "\n",
    "    df_songs = pd.concat(dfs, ignore_index=True)\n",
    "\n",
    "    for _, row in df_songs.iterrows():\n",
    "        try:\n",
    "            song_page = requests.get(row[0])\n",
    "\n",
    "            soup = BeautifulSoup(song_page.text, \"lxml\")\n",
    "\n",
    "            original = soup.find_all(\"div\", class_=\"inner-text\")[0].text\n",
    "            translated = soup.find_all(\"div\", class_=\"inner-text\")[1].text\n",
    "            translated = np.nan if translated == \"\" else translated\n",
    "\n",
    "            if re.search(r\"[ąćęłńóśźżĄĆĘŁŃÓŚŹŻ]\", original):\n",
    "                df_text = pd.concat(\n",
    "                    [df_text, pd.DataFrame({\"Original\": [original], \"Translated\": [translated]})],\n",
    "                    ignore_index=True\n",
    "                )\n",
    "\n",
    "            else:\n",
    "                df_text = pd.concat(\n",
    "                    [df_text, pd.DataFrame({\"Original\": [translated], \"Translated\": [original]})],\n",
    "                    ignore_index=True\n",
    "                )\n",
    "        except:\n",
    "            pass \n",
    "\n",
    "    return df_text\n",
    "\n",
    "\n",
    "df = song_scraper(artists)"
   ]
  },
  {
   "cell_type": "code",
   "execution_count": 10,
   "metadata": {},
   "outputs": [
    {
     "data": {
      "text/html": [
       "<div>\n",
       "<style scoped>\n",
       "    .dataframe tbody tr th:only-of-type {\n",
       "        vertical-align: middle;\n",
       "    }\n",
       "\n",
       "    .dataframe tbody tr th {\n",
       "        vertical-align: top;\n",
       "    }\n",
       "\n",
       "    .dataframe thead th {\n",
       "        text-align: right;\n",
       "    }\n",
       "</style>\n",
       "<table border=\"1\" class=\"dataframe\">\n",
       "  <thead>\n",
       "    <tr style=\"text-align: right;\">\n",
       "      <th></th>\n",
       "      <th>Link</th>\n",
       "    </tr>\n",
       "  </thead>\n",
       "  <tbody>\n",
       "    <tr>\n",
       "      <th>0</th>\n",
       "      <td>https://www.tekstowo.pl/piosenka,sanah,_ii__da_bog_kiedys_zasiasc_w_polsce_wolnej__a__asnyk_.html</td>\n",
       "    </tr>\n",
       "    <tr>\n",
       "      <th>1</th>\n",
       "      <td>https://www.tekstowo.pl/piosenka,sanah,_i__da_bog_kiedys_zasiasc_w_polsce_wolnej__a__asnyk_.html</td>\n",
       "    </tr>\n",
       "    <tr>\n",
       "      <th>2</th>\n",
       "      <td>https://www.tekstowo.pl/piosenka,sanah,_hot16challenge2.html</td>\n",
       "    </tr>\n",
       "    <tr>\n",
       "      <th>3</th>\n",
       "      <td>https://www.tekstowo.pl/piosenka,sanah,2_00.html</td>\n",
       "    </tr>\n",
       "    <tr>\n",
       "      <th>4</th>\n",
       "      <td>https://www.tekstowo.pl/piosenka,sanah,2_10.html</td>\n",
       "    </tr>\n",
       "  </tbody>\n",
       "</table>\n",
       "</div>"
      ],
      "text/plain": [
       "                                                                                                Link\n",
       "0  https://www.tekstowo.pl/piosenka,sanah,_ii__da_bog_kiedys_zasiasc_w_polsce_wolnej__a__asnyk_.html\n",
       "1   https://www.tekstowo.pl/piosenka,sanah,_i__da_bog_kiedys_zasiasc_w_polsce_wolnej__a__asnyk_.html\n",
       "2                                       https://www.tekstowo.pl/piosenka,sanah,_hot16challenge2.html\n",
       "3                                                   https://www.tekstowo.pl/piosenka,sanah,2_00.html\n",
       "4                                                   https://www.tekstowo.pl/piosenka,sanah,2_10.html"
      ]
     },
     "execution_count": 10,
     "metadata": {},
     "output_type": "execute_result"
    }
   ],
   "source": [
    "df.head()"
   ]
  },
  {
   "cell_type": "code",
   "execution_count": 9,
   "metadata": {},
   "outputs": [],
   "source": [
    "def text_scrap(df):\n",
    "    df_text = None\n",
    "    df_text = pd.DataFrame(data={\"Polish\": [], \"English\": []})\n",
    "\n",
    "    for index, row in df.iterrows():\n",
    "        try:\n",
    "            page = requests.get(row[0])\n",
    "            # print(page)\n",
    "            soup = BeautifulSoup(page.text, \"lxml\")\n",
    "\n",
    "            original = soup.find_all(\"div\", class_=\"inner-text\")[0].text\n",
    "            translated = soup.find_all(\"div\", class_=\"inner-text\")[1].text\n",
    "\n",
    "            translated = np.nan if translated == \"\" else translated\n",
    "\n",
    "            if re.search(r\"[ąćęłńóśźżĄĆĘŁŃÓŚŹŻ]\", original):\n",
    "                df_text = df_text.append(\n",
    "                    {\"Polish\": original, \"English\": translated}, ignore_index=True\n",
    "                )\n",
    "\n",
    "            else:\n",
    "                df_text = df_text.append(\n",
    "                    {\"Polish\": translated, \"English\": original}, ignore_index=True\n",
    "                )\n",
    "        except:\n",
    "            pass\n",
    "\n",
    "    return df_text\n",
    "\n",
    "\n",
    "df_text = text_scrap(df)"
   ]
  },
  {
   "cell_type": "code",
   "execution_count": 12,
   "metadata": {},
   "outputs": [
    {
     "name": "stdout",
     "output_type": "stream",
     "text": [
      "3276\n",
      "3294\n"
     ]
    },
    {
     "data": {
      "text/html": [
       "<div>\n",
       "<style scoped>\n",
       "    .dataframe tbody tr th:only-of-type {\n",
       "        vertical-align: middle;\n",
       "    }\n",
       "\n",
       "    .dataframe tbody tr th {\n",
       "        vertical-align: top;\n",
       "    }\n",
       "\n",
       "    .dataframe thead th {\n",
       "        text-align: right;\n",
       "    }\n",
       "</style>\n",
       "<table border=\"1\" class=\"dataframe\">\n",
       "  <thead>\n",
       "    <tr style=\"text-align: right;\">\n",
       "      <th></th>\n",
       "      <th>Polish</th>\n",
       "      <th>English</th>\n",
       "    </tr>\n",
       "  </thead>\n",
       "  <tbody>\n",
       "    <tr>\n",
       "      <th>1896</th>\n",
       "      <td>Stoję na moście\\r\\nCzekam w ciemnościach \\r\\nMyślałam, że tutaj będziesz\\r\\nPo za deszczem nie ma nic\\r\\nŻadnych śladów stóp na ziemi\\r\\nSłucham, ale nie ma tu żadnego dźwięku\\n\\r\\nCzy nikt nie próbuje mnie odnaleźć?\\r\\nCzy nikt nie zabierze mnie do domu?\\n\\r\\nJest cholernie zimna noc,\\r\\nPróbuję rozgryźć to życie\\r\\nCzy nie weźmiesz mnie za rękę?\\r\\nZabierz mnie w jakieś inne miejsce\\r\\nNie wiem kim jesteś\\r\\nAle ja...Jestem z Tobą\\r\\nJestem z Tobą\\n\\r\\nSzukam miejsca\\r\\nSzukam twarzy\\r\\nCzy jest tu ktoś, kogo znam\\r\\nPonieważ nic nie idzie zgodnie z planem\\r\\nI wszystko jest niepoukładane\\r\\nI nikt nie chce być sam\\n\\r\\nCzy nikt nie próbuje mnie odnaleźć?\\r\\nCzy nikt nie zabierze mnie do domu?\\n\\r\\nJest cholernie zimna noc\\r\\nPróbuję rozgryźć to życie\\r\\nCzy nie weźmiesz mnie za rękę?\\r\\nZabierz mnie w jakieś inne miejsce\\r\\nNie wiem kim jesteś\\r\\nAle ja...Jestem z Tobą\\n\\r\\nDlaczego wszystko jest takie mylące\\r\\nMoże po prostu odchodzę od zmysłów\\r\\nyeah yeah yeah\\n\\r\\nJest cholernie zimna noc\\r\\nPróbuję rozgryźć to życie\\r\\nCzy nie weźmiesz mnie za rękę?\\r\\nZabierz mnie w jakieś inne miejsce\\r\\nNie wiem kim jesteś\\r\\nAle ja...Jestem z Tobą\\r\\nJestem z Tobą\\n\\r\\nWeź mnie za rękę\\r\\nZabierz mnie w jakieś inne miejsce\\r\\nNie wiem kim jesteś\\r\\nAle ja...Jestem z Tobą\\r\\nJestem z Tobą\\n\\r\\nWeź mnie za rękę\\r\\nZabierz mnie w jakieś inne miejsce\\r\\nNie wiem kim jesteś\\r\\nAle ja...Jestem z Tobą\\r\\nJestem z Tobą\\r\\nJestem z Tobą\\n\\n\\r\\nTłumaczenie dodał(a): she's_artemis</td>\n",
       "      <td>I'm standing on the bridge\\r\\nI'm waiting in the dark\\r\\nI thought that you'd be here by now\\r\\nThere's nothing but the rain\\r\\nNo footsteps on the ground\\r\\nI'm listening, but there's no sound\\n\\r\\nIsn't anyone trying to find me?\\r\\nWon't somebody come take me home?\\n\\r\\nIt's a damn cold night\\r\\nTrying to figure out this life\\r\\nWon't you take me by the hand\\r\\nTake me somewhere new?\\r\\nDon't know where you are, but I\\r\\nI'm with you\\r\\nI'm with you\\n\\r\\nI'm looking for a place\\r\\nI'm searching for a face\\r\\nIs anybody here I know?\\r\\n'Cause nothing's going right\\r\\nAnd everything's a mess\\r\\nAnd no one likes to be alone\\n\\r\\nIsn't anyone trying to find me?\\r\\nWon't somebody come take me home?\\n\\r\\nIt's a damn cold night\\r\\nTrying to figure out this life\\r\\nWon't you take me by the hand\\r\\nTake me somewhere new?\\r\\nDon't know where you are, but I\\r\\nI'm with you\\r\\nI'm with you\\n\\r\\nOh, why is everything so confusing?\\r\\nMaybe I'm just out of my mind\\r\\nYeah-he-yaa, yeah-he-yah,\\r\\nyeah-he-yah, yeah-he-yah, yeah!\\n\\r\\nIt's a damn cold night\\r\\nTrying to figure out this life\\r\\nWon't you take me by the hand\\r\\nTake me somewhere new?\\r\\nDon't know who you are, but I\\r\\nI'm with you\\r\\nI'm with you\\n\\r\\nTake me\\r\\nTake me by the hand\\r\\nTake me somewhere new\\r\\nDon't know who you are, but I\\r\\nI'm with you\\r\\nI'm with you\\n\\r\\nTake me by the hand\\r\\nTake me somewhere new\\r\\nDon't know who you are, but I\\r\\nI'm with you\\r\\nI'm with you\\r\\nI'm with you</td>\n",
       "    </tr>\n",
       "  </tbody>\n",
       "</table>\n",
       "</div>"
      ],
      "text/plain": [
       "                                                                                                                                                                                                                                                                                                                                                                                                                                                                                                                                                                                                                                                                                                                                                                                                                                                                                                                                                                                                                                                                                                                                                                                                                                                                                                                                                                                                                                                                                                                                                  Polish  \\\n",
       "1896  Stoję na moście\\r\\nCzekam w ciemnościach \\r\\nMyślałam, że tutaj będziesz\\r\\nPo za deszczem nie ma nic\\r\\nŻadnych śladów stóp na ziemi\\r\\nSłucham, ale nie ma tu żadnego dźwięku\\n\\r\\nCzy nikt nie próbuje mnie odnaleźć?\\r\\nCzy nikt nie zabierze mnie do domu?\\n\\r\\nJest cholernie zimna noc,\\r\\nPróbuję rozgryźć to życie\\r\\nCzy nie weźmiesz mnie za rękę?\\r\\nZabierz mnie w jakieś inne miejsce\\r\\nNie wiem kim jesteś\\r\\nAle ja...Jestem z Tobą\\r\\nJestem z Tobą\\n\\r\\nSzukam miejsca\\r\\nSzukam twarzy\\r\\nCzy jest tu ktoś, kogo znam\\r\\nPonieważ nic nie idzie zgodnie z planem\\r\\nI wszystko jest niepoukładane\\r\\nI nikt nie chce być sam\\n\\r\\nCzy nikt nie próbuje mnie odnaleźć?\\r\\nCzy nikt nie zabierze mnie do domu?\\n\\r\\nJest cholernie zimna noc\\r\\nPróbuję rozgryźć to życie\\r\\nCzy nie weźmiesz mnie za rękę?\\r\\nZabierz mnie w jakieś inne miejsce\\r\\nNie wiem kim jesteś\\r\\nAle ja...Jestem z Tobą\\n\\r\\nDlaczego wszystko jest takie mylące\\r\\nMoże po prostu odchodzę od zmysłów\\r\\nyeah yeah yeah\\n\\r\\nJest cholernie zimna noc\\r\\nPróbuję rozgryźć to życie\\r\\nCzy nie weźmiesz mnie za rękę?\\r\\nZabierz mnie w jakieś inne miejsce\\r\\nNie wiem kim jesteś\\r\\nAle ja...Jestem z Tobą\\r\\nJestem z Tobą\\n\\r\\nWeź mnie za rękę\\r\\nZabierz mnie w jakieś inne miejsce\\r\\nNie wiem kim jesteś\\r\\nAle ja...Jestem z Tobą\\r\\nJestem z Tobą\\n\\r\\nWeź mnie za rękę\\r\\nZabierz mnie w jakieś inne miejsce\\r\\nNie wiem kim jesteś\\r\\nAle ja...Jestem z Tobą\\r\\nJestem z Tobą\\r\\nJestem z Tobą\\n\\n\\r\\nTłumaczenie dodał(a): she's_artemis   \n",
       "\n",
       "                                                                                                                                                                                                                                                                                                                                                                                                                                                                                                                                                                                                                                                                                                                                                                                                                                                                                                                                                                                                                                                                                                                                                                                                                                                                                                                                                                                                                                                                                                                                English  \n",
       "1896  I'm standing on the bridge\\r\\nI'm waiting in the dark\\r\\nI thought that you'd be here by now\\r\\nThere's nothing but the rain\\r\\nNo footsteps on the ground\\r\\nI'm listening, but there's no sound\\n\\r\\nIsn't anyone trying to find me?\\r\\nWon't somebody come take me home?\\n\\r\\nIt's a damn cold night\\r\\nTrying to figure out this life\\r\\nWon't you take me by the hand\\r\\nTake me somewhere new?\\r\\nDon't know where you are, but I\\r\\nI'm with you\\r\\nI'm with you\\n\\r\\nI'm looking for a place\\r\\nI'm searching for a face\\r\\nIs anybody here I know?\\r\\n'Cause nothing's going right\\r\\nAnd everything's a mess\\r\\nAnd no one likes to be alone\\n\\r\\nIsn't anyone trying to find me?\\r\\nWon't somebody come take me home?\\n\\r\\nIt's a damn cold night\\r\\nTrying to figure out this life\\r\\nWon't you take me by the hand\\r\\nTake me somewhere new?\\r\\nDon't know where you are, but I\\r\\nI'm with you\\r\\nI'm with you\\n\\r\\nOh, why is everything so confusing?\\r\\nMaybe I'm just out of my mind\\r\\nYeah-he-yaa, yeah-he-yah,\\r\\nyeah-he-yah, yeah-he-yah, yeah!\\n\\r\\nIt's a damn cold night\\r\\nTrying to figure out this life\\r\\nWon't you take me by the hand\\r\\nTake me somewhere new?\\r\\nDon't know who you are, but I\\r\\nI'm with you\\r\\nI'm with you\\n\\r\\nTake me\\r\\nTake me by the hand\\r\\nTake me somewhere new\\r\\nDon't know who you are, but I\\r\\nI'm with you\\r\\nI'm with you\\n\\r\\nTake me by the hand\\r\\nTake me somewhere new\\r\\nDon't know who you are, but I\\r\\nI'm with you\\r\\nI'm with you\\r\\nI'm with you  "
      ]
     },
     "execution_count": 12,
     "metadata": {},
     "output_type": "execute_result"
    }
   ],
   "source": [
    "print(len(df_text))\n",
    "print(len(df))\n",
    "df_text.iloc[[1896]]"
   ]
  },
  {
   "cell_type": "code",
   "execution_count": 13,
   "metadata": {},
   "outputs": [],
   "source": [
    "import pickle\n",
    "\n",
    "with open(\"dataframe_text\", \"wb\") as f:\n",
    "    pickle.dump(df_text, f)"
   ]
  },
  {
   "cell_type": "code",
   "execution_count": 14,
   "metadata": {},
   "outputs": [
    {
     "data": {
      "text/plain": [
       "316"
      ]
     },
     "execution_count": 14,
     "metadata": {},
     "output_type": "execute_result"
    }
   ],
   "source": [
    "df_text[\"English\"].isna().sum()"
   ]
  },
  {
   "cell_type": "code",
   "execution_count": 9,
   "metadata": {},
   "outputs": [
    {
     "data": {
      "text/plain": [
       "1864"
      ]
     },
     "execution_count": 9,
     "metadata": {},
     "output_type": "execute_result"
    }
   ],
   "source": [
    "len(df_text)"
   ]
  },
  {
   "cell_type": "code",
   "execution_count": 13,
   "metadata": {},
   "outputs": [
    {
     "data": {
      "text/html": [
       "<div>\n",
       "<style scoped>\n",
       "    .dataframe tbody tr th:only-of-type {\n",
       "        vertical-align: middle;\n",
       "    }\n",
       "\n",
       "    .dataframe tbody tr th {\n",
       "        vertical-align: top;\n",
       "    }\n",
       "\n",
       "    .dataframe thead th {\n",
       "        text-align: right;\n",
       "    }\n",
       "</style>\n",
       "<table border=\"1\" class=\"dataframe\">\n",
       "  <thead>\n",
       "    <tr style=\"text-align: right;\">\n",
       "      <th></th>\n",
       "      <th>Link</th>\n",
       "    </tr>\n",
       "  </thead>\n",
       "  <tbody>\n",
       "    <tr>\n",
       "      <th>799</th>\n",
       "      <td>https://www.tekstowo.pl/piosenka,drake,cameras__official_remix_.html</td>\n",
       "    </tr>\n",
       "  </tbody>\n",
       "</table>\n",
       "</div>"
      ],
      "text/plain": [
       "                                                                     Link\n",
       "799  https://www.tekstowo.pl/piosenka,drake,cameras__official_remix_.html"
      ]
     },
     "execution_count": 13,
     "metadata": {},
     "output_type": "execute_result"
    }
   ],
   "source": [
    "df.iloc[[799]]"
   ]
  },
  {
   "cell_type": "code",
   "execution_count": 11,
   "metadata": {},
   "outputs": [
    {
     "data": {
      "text/html": [
       "<div>\n",
       "<style scoped>\n",
       "    .dataframe tbody tr th:only-of-type {\n",
       "        vertical-align: middle;\n",
       "    }\n",
       "\n",
       "    .dataframe tbody tr th {\n",
       "        vertical-align: top;\n",
       "    }\n",
       "\n",
       "    .dataframe thead th {\n",
       "        text-align: right;\n",
       "    }\n",
       "</style>\n",
       "<table border=\"1\" class=\"dataframe\">\n",
       "  <thead>\n",
       "    <tr style=\"text-align: right;\">\n",
       "      <th></th>\n",
       "      <th>Polish</th>\n",
       "      <th>English</th>\n",
       "    </tr>\n",
       "  </thead>\n",
       "  <tbody>\n",
       "    <tr>\n",
       "      <th>1509</th>\n",
       "      <td>[Ariana Grande]\\nDokąd się zwrócić?\\nGdy nie ma do kogo?\\nDokąd, gdy tak ciężko jest?\\nJak dokonać pierwszych zmian?\\nJak się uczyć?\\nCzego ci trzeba?\\n\\n[Pan Bagietka]\\nNadziei\\n\\n[Ariana Grande]\\nNadzieja jest pieśnią\\nGdy świat ci zagraża\\nNadzieja to otwarte drzwi\\n\\n[Ariana Grande i Jim Carrey]\\nA może upadki są po to, by...\\nPodnosić się z nich?</td>\n",
       "      <td>[Ariana Grande]\\nWhere do you turn?\\nWhen there’s no one to turn to?\\nWhen it's so hard to cope\\nHow can you start to make a change?\\nMaybe learn to\\nWhat do you need?\\n\\n[Mr. Baggett]\\nHope\\n\\n[Ariana Grande]\\nHope is the song\\nWhen the world is a menace\\nHope is an open door\\n\\n[Ariana Grande &amp; Jim Carrey]\\nMaybe getting back up again is\\nWhat falls are for</td>\n",
       "    </tr>\n",
       "  </tbody>\n",
       "</table>\n",
       "</div>"
      ],
      "text/plain": [
       "                                                                                                                                                                                                                                                                                                                                                                 Polish                                                                                                                                                                                                                                                                                                                                                                    English\n",
       "1509  [Ariana Grande]\\nDokąd się zwrócić?\\nGdy nie ma do kogo?\\nDokąd, gdy tak ciężko jest?\\nJak dokonać pierwszych zmian?\\nJak się uczyć?\\nCzego ci trzeba?\\n\\n[Pan Bagietka]\\nNadziei\\n\\n[Ariana Grande]\\nNadzieja jest pieśnią\\nGdy świat ci zagraża\\nNadzieja to otwarte drzwi\\n\\n[Ariana Grande i Jim Carrey]\\nA może upadki są po to, by...\\nPodnosić się z nich?  [Ariana Grande]\\nWhere do you turn?\\nWhen there’s no one to turn to?\\nWhen it's so hard to cope\\nHow can you start to make a change?\\nMaybe learn to\\nWhat do you need?\\n\\n[Mr. Baggett]\\nHope\\n\\n[Ariana Grande]\\nHope is the song\\nWhen the world is a menace\\nHope is an open door\\n\\n[Ariana Grande & Jim Carrey]\\nMaybe getting back up again is\\nWhat falls are for"
      ]
     },
     "execution_count": 11,
     "metadata": {},
     "output_type": "execute_result"
    }
   ],
   "source": [
    "# 400 wiersz - polski i angielski razem (dla pierwszych dwoch z listy new)\n",
    "df_text.iloc[[1509]]"
   ]
  },
  {
   "cell_type": "code",
   "execution_count": 12,
   "metadata": {},
   "outputs": [
    {
     "data": {
      "text/html": [
       "<div>\n",
       "<style scoped>\n",
       "    .dataframe tbody tr th:only-of-type {\n",
       "        vertical-align: middle;\n",
       "    }\n",
       "\n",
       "    .dataframe tbody tr th {\n",
       "        vertical-align: top;\n",
       "    }\n",
       "\n",
       "    .dataframe thead th {\n",
       "        text-align: right;\n",
       "    }\n",
       "</style>\n",
       "<table border=\"1\" class=\"dataframe\">\n",
       "  <thead>\n",
       "    <tr style=\"text-align: right;\">\n",
       "      <th></th>\n",
       "      <th>Polish</th>\n",
       "      <th>English</th>\n",
       "    </tr>\n",
       "  </thead>\n",
       "  <tbody>\n",
       "    <tr>\n",
       "      <th>799</th>\n",
       "      <td>NaN</td>\n",
       "      <td>[Intro]\\nHow you mean, how you mean\\nI Thought you knew about the team, (ay)\\nHow you mean, how you mean\\nI Thought you knew about the team, (ay)\\n\\n[Verse 1: Ke'Ondris]\\nBefore they knew who i was tha preety girls had a problem\\nWith me but tha ugly girls always wanted to holla\\nBut i couldn't settle for less so i threw tha\\nLight skinned girls a couple dollas\\nNow she my bestfrind and my brand new girlfriend\\nShe only wanna talk 2 me\\nBut only on camera\\nOnly on camera\\nOnly on camera\\nShe say they in love with me\\nOnly on camera\\nOnly on camera\\nOnly on camera\\nIm Stuck without ah move im\\nIm lost in tha groove I\\nGotta figure out something to remove ya\\nFrom my life cus you fucking my shyt up\\nAnd now you living tha single life\\nAnd you need my help\\n\\n[Verse 2: Peter Ray Rivers]\\nFrom tha botton of my heart I mean every word that i say\\nSay you dont care\\nSay you really want it\\nI want it\\nIm stuttering\\n\"I\" \"I\" \"I\"\\nIm on my grind like cc said\\nCus this line hot\\nThey ah ride around town\\nLooking for some dumb muphuka's\\n2 go f*ck up\\nYou think you winning\\nBut chu ain't winning\\nYeah &amp; that how ya story goes\\n\\n[Bridge]\\nOoh finally got you right here\\nTonight I'll ease your mind\\nThat's why I'm calling on you\\nAnd ooh soft your loves desire\\nIt's hard to stay away\\nYou keep me calling on you\\n\\n[Hook]\\nHow you mean, how you mean\\nThought you knew about the team, (ay)\\nHow you mean, how you mean\\nThought you knew about the team, (ay)\\n\\n[Verse 3: Drake]\\nHow you mean, how you mean, what you know about the team\\nYou just know what you get told girl I see behind the scene\\nShe spilled whiskey on her shirt, she gonna have to get it cleaned\\nShe been going way to hard, someone has to intervene\\nBaby she look like a star, but only on camera\\nOnly on camera, only on camera\\nIt might look like I care, but only on camera\\nOnly on camera, only on camera\\nDon't listen to the lies, I swear they all lies\\nYou know I could be your knight in shining armor all tires\\nGirl, they love me like I'm Prince, like the new kid with the crown\\nBunch of underground kings, thought you knew how we get down (ah)\\n\\n[Bridge]\\n\\n[Hook]</td>\n",
       "    </tr>\n",
       "  </tbody>\n",
       "</table>\n",
       "</div>"
      ],
      "text/plain": [
       "    Polish  \\\n",
       "799    NaN   \n",
       "\n",
       "                                                                                                                                                                                                                                                                                                                                                                                                                                                                                                                                                                                                                                                                                                                                                                                                                                                                                                                                                                                                                                                                                                                                                                                                                                                                                                                                                                                                                                                                                                                                                                                                                                                                                                                                                                                                                                                                                                                                                                                                                                                                                                                                                                                                                                    English  \n",
       "799  [Intro]\\nHow you mean, how you mean\\nI Thought you knew about the team, (ay)\\nHow you mean, how you mean\\nI Thought you knew about the team, (ay)\\n\\n[Verse 1: Ke'Ondris]\\nBefore they knew who i was tha preety girls had a problem\\nWith me but tha ugly girls always wanted to holla\\nBut i couldn't settle for less so i threw tha\\nLight skinned girls a couple dollas\\nNow she my bestfrind and my brand new girlfriend\\nShe only wanna talk 2 me\\nBut only on camera\\nOnly on camera\\nOnly on camera\\nShe say they in love with me\\nOnly on camera\\nOnly on camera\\nOnly on camera\\nIm Stuck without ah move im\\nIm lost in tha groove I\\nGotta figure out something to remove ya\\nFrom my life cus you fucking my shyt up\\nAnd now you living tha single life\\nAnd you need my help\\n\\n[Verse 2: Peter Ray Rivers]\\nFrom tha botton of my heart I mean every word that i say\\nSay you dont care\\nSay you really want it\\nI want it\\nIm stuttering\\n\"I\" \"I\" \"I\"\\nIm on my grind like cc said\\nCus this line hot\\nThey ah ride around town\\nLooking for some dumb muphuka's\\n2 go f*ck up\\nYou think you winning\\nBut chu ain't winning\\nYeah & that how ya story goes\\n\\n[Bridge]\\nOoh finally got you right here\\nTonight I'll ease your mind\\nThat's why I'm calling on you\\nAnd ooh soft your loves desire\\nIt's hard to stay away\\nYou keep me calling on you\\n\\n[Hook]\\nHow you mean, how you mean\\nThought you knew about the team, (ay)\\nHow you mean, how you mean\\nThought you knew about the team, (ay)\\n\\n[Verse 3: Drake]\\nHow you mean, how you mean, what you know about the team\\nYou just know what you get told girl I see behind the scene\\nShe spilled whiskey on her shirt, she gonna have to get it cleaned\\nShe been going way to hard, someone has to intervene\\nBaby she look like a star, but only on camera\\nOnly on camera, only on camera\\nIt might look like I care, but only on camera\\nOnly on camera, only on camera\\nDon't listen to the lies, I swear they all lies\\nYou know I could be your knight in shining armor all tires\\nGirl, they love me like I'm Prince, like the new kid with the crown\\nBunch of underground kings, thought you knew how we get down (ah)\\n\\n[Bridge]\\n\\n[Hook]  "
      ]
     },
     "execution_count": 12,
     "metadata": {},
     "output_type": "execute_result"
    }
   ],
   "source": [
    "df_text.iloc[[799]]"
   ]
  },
  {
   "cell_type": "code",
   "execution_count": 5,
   "metadata": {},
   "outputs": [
    {
     "data": {
      "text/plain": [
       "0"
      ]
     },
     "execution_count": 5,
     "metadata": {},
     "output_type": "execute_result"
    }
   ],
   "source": [
    "df.duplicated().sum()"
   ]
  },
  {
   "cell_type": "code",
   "execution_count": 6,
   "metadata": {},
   "outputs": [
    {
     "data": {
      "text/html": [
       "<div>\n",
       "<style scoped>\n",
       "    .dataframe tbody tr th:only-of-type {\n",
       "        vertical-align: middle;\n",
       "    }\n",
       "\n",
       "    .dataframe tbody tr th {\n",
       "        vertical-align: top;\n",
       "    }\n",
       "\n",
       "    .dataframe thead th {\n",
       "        text-align: right;\n",
       "    }\n",
       "</style>\n",
       "<table border=\"1\" class=\"dataframe\">\n",
       "  <thead>\n",
       "    <tr style=\"text-align: right;\">\n",
       "      <th></th>\n",
       "      <th>Link</th>\n",
       "    </tr>\n",
       "  </thead>\n",
       "  <tbody>\n",
       "    <tr>\n",
       "      <th>79</th>\n",
       "      <td>https://www.tekstowo.pl/piosenka,taylor_swift,dorothea.html</td>\n",
       "    </tr>\n",
       "  </tbody>\n",
       "</table>\n",
       "</div>"
      ],
      "text/plain": [
       "                                                           Link\n",
       "79  https://www.tekstowo.pl/piosenka,taylor_swift,dorothea.html"
      ]
     },
     "execution_count": 6,
     "metadata": {},
     "output_type": "execute_result"
    }
   ],
   "source": [
    "df[df[\"Link\"] == \"https://www.tekstowo.pl/piosenka,taylor_swift,dorothea.html\"]"
   ]
  }
 ],
 "metadata": {
  "kernelspec": {
   "display_name": "Python 3",
   "language": "python",
   "name": "python3"
  },
  "language_info": {
   "codemirror_mode": {
    "name": "ipython",
    "version": 3
   },
   "file_extension": ".py",
   "mimetype": "text/x-python",
   "name": "python",
   "nbconvert_exporter": "python",
   "pygments_lexer": "ipython3",
   "version": "3.10.9"
  },
  "orig_nbformat": 4
 },
 "nbformat": 4,
 "nbformat_minor": 2
}
