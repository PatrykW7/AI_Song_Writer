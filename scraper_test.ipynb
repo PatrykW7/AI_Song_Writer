{
 "cells": [
  {
   "cell_type": "code",
   "execution_count": 1,
   "metadata": {},
   "outputs": [],
   "source": [
    "from song_scraper import song_scraper\n",
    "import pandas as pd\n",
    "\n",
    "pd.set_option(\"display.max_rows\", 500)\n",
    "pd.set_option(\"display.max_columns\", 500)\n",
    "pd.set_option(\"display.width\", 1000)\n",
    "pd.set_option(\"display.max_columns\", None)\n",
    "pd.set_option(\"max_colwidth\", 800)\n",
    "pd.set_option(\"display.max_colwidth\", None)"
   ]
  },
  {
   "cell_type": "code",
   "execution_count": 9,
   "metadata": {},
   "outputs": [],
   "source": [
    "artists = [\"Kwiat Jabłoni\"]"
   ]
  },
  {
   "cell_type": "code",
   "execution_count": 10,
   "metadata": {},
   "outputs": [
    {
     "name": "stderr",
     "output_type": "stream",
     "text": [
      "c:\\Users\\wilko\\Desktop\\Studia\\3 rok\\Projekty studia\\Python-Projekt\\song_scraper.py:66: FutureWarning: Series.__getitem__ treating keys as positions is deprecated. In a future version, integer keys will always be treated as labels (consistent with DataFrame behavior). To access a value by position, use `ser.iloc[pos]`\n",
      "  song_page = requests.get(row[0])\n",
      "c:\\Users\\wilko\\Desktop\\Studia\\3 rok\\Projekty studia\\Python-Projekt\\song_scraper.py:74: FutureWarning: Series.__getitem__ treating keys as positions is deprecated. In a future version, integer keys will always be treated as labels (consistent with DataFrame behavior). To access a value by position, use `ser.iloc[pos]`\n",
      "  re.findall(r\",[^,]+,([^\\.]+)\\.\", row[0])[0]\n"
     ]
    }
   ],
   "source": [
    "df = song_scraper(artists)"
   ]
  },
  {
   "cell_type": "code",
   "execution_count": 11,
   "metadata": {},
   "outputs": [
    {
     "data": {
      "text/html": [
       "<div>\n",
       "<style scoped>\n",
       "    .dataframe tbody tr th:only-of-type {\n",
       "        vertical-align: middle;\n",
       "    }\n",
       "\n",
       "    .dataframe tbody tr th {\n",
       "        vertical-align: top;\n",
       "    }\n",
       "\n",
       "    .dataframe thead th {\n",
       "        text-align: right;\n",
       "    }\n",
       "</style>\n",
       "<table border=\"1\" class=\"dataframe\">\n",
       "  <thead>\n",
       "    <tr style=\"text-align: right;\">\n",
       "      <th></th>\n",
       "      <th>Author</th>\n",
       "      <th>Title</th>\n",
       "      <th>Polish</th>\n",
       "      <th>English</th>\n",
       "    </tr>\n",
       "  </thead>\n",
       "  <tbody>\n",
       "    <tr>\n",
       "      <th>0</th>\n",
       "      <td>Kwiat Jabłoni</td>\n",
       "      <td>Hot16Challenge2</td>\n",
       "      <td>To jest nasz pierwszy raz w życiu,\\nNigdy nie było tak jeszcze,\\nTak, że oboje piszemy jeden tekst.\\nJuż dwa miesiące w ukryciu,\\nTen sam jest obiad i przestrzeń.\\nDzielimy te same myśli, więc słowa też.\\nKażdego dnia, każdej nocy\\nTa jedna myśl, a nie tysiąc:\\nCo byłoby gdyby nie było tego, co było.\\nNie mamy specjalnych mocy,\\nAle możemy przysiąc,\\nŻe tak na życie się wcześniej nie patrzyło.\\n\\nMamy tylko tu i teraz.\\nBrakuje słów, zaczniemy od zera.\\nTu i teraz.\\nBrakuje słów, zaczniemy od zera.\\nTu i teraz.\\nBrakuje słów, zaczniemy od zera.\\n\\nNominujemy Jacka Stachurskiego,\\nJurka Owsiaka, Sorry Boys, naszego Starego.\\nJacka Stachurskiego,\\nJurka Owsiaka, Sorry Boys, naszego Starego.</td>\n",
       "      <td>That's the first time in our lives\\nIt never happened before\\nThat the both of us are writing the same lyrics\\nTwo months, already, we're hidden\\nIt's the same dinner and and same space\\nSharing the same thoughts, our words, too, are the same\\nEvery single day and night\\nThat single thought, not a thousand\\nWhat would've happened if what happened hadn't have happened\\nWe don't have special powers\\nBut we can promise you this\\nThis isn't how one used to look at life before now\\n\\nWe've only got here and now\\nFor the lack of words, we'll start from scratch\\nHere and now\\nFor the lack of words, we'll start from scratch\\nHere and now\\nFor the lack of words, we'll start from scratch\\n\\nWe nominate Jacek Stachursky,\\nJurek Owsiak, Sorry Boys, our Old Man.\\nJacek Stachursky,\\nJurek Owsiak, Sorry Boys, our Old Man.</td>\n",
       "    </tr>\n",
       "    <tr>\n",
       "      <th>1</th>\n",
       "      <td>Kwiat Jabłoni</td>\n",
       "      <td>Bankiet</td>\n",
       "      <td>To tylko kolejny uścisk dłoni\\r\\nPod stołem by nikt nie widział\\r\\nTo tylko kolejne słowa\\r\\nPadły by nikt nie usłyszał\\n\\r\\nA Ty jesteś spokojny i tak\\r\\nJak zawsze od lat na raz\\r\\nStajesz się wolny na dwa\\r\\nOślepniesz na świat\\n\\r\\nJesteś kolejną twarzą\\r\\nDaleko na końcu bankietu\\r\\nPłyniesz cicho jak rzeka\\r\\nZ rozpędu trafiasz do celu\\n\\r\\n[Ref]\\r\\nTylko nie przegap dnia\\r\\nJak gwiazdy spadające\\r\\nI nie przegap dnia\\r\\nZnika na horyzoncie\\n\\r\\nNie przegap dnia\\r\\nJak gwiazdy spadające\\r\\nI nie przegap dnia\\r\\nZnika na horyzoncie\\n\\r\\nMówisz, że takie są czasy\\r\\nI od nas nic nie zależy\\r\\nŻadne z nas nic nie znaczy\\r\\nKażdy ruch w pustkę uderzy\\n\\r\\nA Ty jesteś spokojny i tak\\r\\nJak zawsze od lat na raz\\r\\nStaniesz się wolny na dwa\\r\\nOślepniesz na świat\\n\\r\\nJesteś kolejną twarzą\\r\\nDaleko na końcu bankietu\\r\\nPłyniesz cicho jak rzeka\\r\\nZ rozpędu trafiasz do celu\\n\\r\\n[Ref]\\r\\nTylko nie przegap dnia\\r\\nJak gwiazdy spadające\\r\\nI nie przegap dnia\\r\\nZnika na horyzoncie\\n\\r\\nNie przegap dnia\\r\\nJak gwiazdy spadające\\r\\nI nie przegap dnia\\r\\nZnika na horyzoncie\\n\\r\\nNie przegap dnia\\r\\nJak gwiazdy spadające\\r\\nI nie przegap dnia\\r\\nZnika na horyzoncie\\n\\r\\nNie przegap dnia\\r\\nJak gwiazdy spadające\\r\\nI nie przegap dnia\\r\\nZnika na horyzoncie</td>\n",
       "      <td>[Title: The Banquet]\\nIt's just another handshake\\nUnder the table so that nobody sees it\\nIt's just another words\\nSpoken so that nobody hears it\\n\\nAnd you compose yourself anyway\\nOn one, as you've always done before\\nFreeing yourself, on two\\nLosing sight of what's around you\\n\\nYou're just another face\\nDeep at the back of the banquet\\nFlowing silently like a river\\nThe momentum brings you to your target\\n\\n[Chorus]\\nJust don't let the day slip through your fingers\\nLike the falling stars\\nAnd don't let the day slip through your fingers\\nIt's disappearing on the horizon\\n\\nDon't let the day slip through your fingers\\nLike the falling stars\\nAnd don't let the day slip through your fingers\\nIt's disappearing on the horizon\\n\\nYou're saying it's the times we're living in\\nIt's all out of our control\\nWe don't have any meaning\\nAll our struggles will come to nothing\\n\\nAnd you compose yourself anyway\\nOn one, as you've always done before\\nFreeing yourself, on two\\nLosing sight of what's around you\\n\\nYou're just another face\\nDeep at the back of the banquet\\nFlowing silently like a river\\nThe momentum brings you to your target\\n\\n[Chorus]\\nJust don't let the day slip through your fingers\\nLike the falling stars\\nAnd don't let the day slip through your fingers\\nIt's disappearing on the horizon\\n\\nDon't let the day slip through your fingers\\nLike the falling stars\\nAnd don't let the day slip through your fingers\\nIt's disappearing on the horizon\\n\\nDon't let the day slip through your fingers\\nLike the falling stars\\nAnd don't let the day slip through your fingers\\nIt's disappearing on the horizon\\n\\nDon't let the day slip through your fingers\\nLike the falling stars\\nAnd don't let the day slip through your fingers\\nIt's disappearing on the horizon</td>\n",
       "    </tr>\n",
       "    <tr>\n",
       "      <th>2</th>\n",
       "      <td>Kwiat Jabłoni</td>\n",
       "      <td>Buka 1</td>\n",
       "      <td>W dolinie spokój\\r\\nA w niej wreszcie mieszkam ja\\r\\nŚwiat mam na oku\\r\\nI taki już jest od lat\\n\\r\\nI pytasz czemu na trawie jest szron\\r\\nI skąd nadchodzi czarny front\\r\\nChmur, które idą do nas\\r\\nWiatr wieje ze wszystkich stron\\r\\nLepiej zamknę drzwi\\n\\r\\nWiem, że nie ma nic gorszego niż Buka\\r\\nMówi, że wróci, ale nie wiesz kiedy\\r\\nI stanie pod domem, bo siebie się nie da oszukać\\r\\nStrach jest ten sam, jak wtedy\\n\\r\\nWyglądam przez okno\\r\\nRaczej nie przyszedł nikt\\r\\nAle podobno\\r\\nNie wszystko widać gdy...\\n\\r\\nNa szybach i na trawie jest szron\\r\\nGdy nadchodzi czarny front\\r\\nChmur, które idą do nas\\r\\nWiatr wieje ze wszystkich stron\\r\\nLepiej zamknę drzwi\\n\\r\\nWiem, że nie ma nic gorszego niż Buka\\r\\nMówi, że wróci, ale nie wiesz kiedy\\r\\nI stanie pod domem, bo siebie się nie da oszukać\\r\\nStrach jest ten sam, jak wtedy\\n\\r\\nWiem, że nie ma nic gorszego niż Buka\\r\\nMówi, że wróci, ale nie wiesz kiedy\\r\\nI stanie pod domem, bo siebie się nie da oszukać\\r\\nStrach jest ten sam, jak wtedy\\n\\r\\nPo tylu latach wiem już na pewno\\r\\nŻe kiedy przyjdzie jasne będzie jedno\\r\\nZłe myśli nie były tego warte\\r\\nZostawię drzwi otwarte</td>\n",
       "      <td>In the valley there is a peace\\nAnd finally I live in there\\nI have an eye on the universe\\nAnd it's been like this over the years\\n\\nAnd you ask me why there is a hoarfrost on a grass\\nAnd where black front is coming from\\nClouds that are coming to us, wind is blowing from the all sides\\nI'd better close the doors\\n\\nI know that there is nothing worse than Buka\\nIt says, that it'll come back but you don't know when\\nAnd it will stand in front of the house\\nFear is the same, as it was before\\n\\nI look outside the window\\nI don't think anybody has shown up\\nBut supposedly\\nYou can't see everything when...\\n\\nOn the glass, on the grass there is a hoarfrost\\nWhen the black front is coming\\nClouds that are coming to us, wind is blowing from the all sides\\nI'd better close the doors\\n\\nI know that there is nothing worse than Buka\\nIt says, that it'll come back but you don't know when\\nAnd it will stand in front of the house\\nFear is the same, as it was before\\n\\nI know that there is nothing worse than Buka\\nIt says, that it'll come back but you don't know when\\nAnd it will stand in front of the house\\nFear is the same, as it was before\\n\\nAfter these years I know for sure\\nThat when it'll come, one thing is going to be clear\\nBad thoughts weren't worth it\\nI'll leave my doors open</td>\n",
       "    </tr>\n",
       "    <tr>\n",
       "      <th>3</th>\n",
       "      <td>Kwiat Jabłoni</td>\n",
       "      <td>Byle Jak</td>\n",
       "      <td>Latami pracuje ciężko\\r\\nTnąc gałąź, na której ciągle siedzi sam\\r\\nDni co raz szybciej biegną\\r\\nLecz jeszcze dzisiaj nie sięgnie dna\\n\\r\\nJesteś dla niego przestrzenią\\r\\nPopisów polem i miejscem ważnych spraw\\r\\nGdy spadnie będzie pewien\\r\\nNie byłaś polem a celem\\n\\r\\nJak mam obronić ziemię i jak walczyć nie wiem\\r\\nI wszystko robię byle jak\\r\\nByle jak, byle jak, byle jak\\r\\nByle jak, byle jak, byle jak\\r\\nByle jak, byle jak, byle jak\\n\\r\\nMyślał, że zna Cię na wylot\\r\\nŻe da się zmierzyć Cię według jego praw\\r\\nZważyć i wycenić wszystko\\r\\nCo znajdzie pośród słońc i traw\\n\\r\\nSamego siebie wyprzedzał\\r\\nMyślał, że idzie po Tobie by znaleźć dom\\r\\nNigdy tego nie pojął\\r\\nNie szedł po Tobie, lecz z Tobą\\n\\r\\nJak mam obronić ziemię, kiedy mam wrażenie\\r\\nŻe bronić będę całkiem sam\\r\\nCałkiem sam, całkiem sam, całkiem sam\\r\\nCałkiem sam, całkiem sam, całkiem sam\\r\\nCałkiem sam, całkiem sam, całkiem sam\\r\\nCałkiem sam, całkiem sam, całkiem sam\\n\\r\\nJak mam bronić Ciebie, gdy jak walczyć nie wiem?\\r\\nJak mam bronić Ciebie?\\r\\nJak mam bronić Ciebie, gdy jak walczyć nie wiem?\\r\\nJak mam bronić Ciebie?\\r\\nJak mam bronić Ciebie?\\r\\nJak mam bronić Ciebie?\\r\\nJak mam bronić Ciebie, gdy jak walczyć nie wiem?\\r\\nJak mam bronić Ciebie?\\r\\nJak mam bronić Ciebie?\\r\\nJak mam bronić Ciebie?\\n\\r\\nByle jak\\r\\nCałkiem sam\\r\\nByle jak\\r\\nCałkiem sam\\r\\nByle jak, byle jak, byle jak\\r\\nCałkiem sam, całkiem sam, całkiem sam\\r\\nByle jak, byle jak, byle jak\\r\\nCałkiem sam, całkiem sam, całkiem sam (Ej!)</td>\n",
       "      <td>[Title: Sloppily]\\nThroughout the years he's been working hard\\nSawing off the branch he's been sitting on\\nThe days are fleeting ever so quicker\\nBut today's not the day he hits the bottom\\n\\nHe sees you as an expanse\\nA place to show off and for matters of great importance\\nWhen he falls down he'll know\\nYou weren't a place, but the purpose\\n\\nHow can I stand my ground and how can I fight, I wonder\\nAnd I'm doing everything sloppily\\nSloppily, sloppily, sloppily\\nSloppily, sloppily, sloppily\\nSloppily, sloppily, sloppily\\n\\nHe thought he could see through you\\nThat he could measure you by his standards\\nWeigh and appraise everything\\nHe'll find among the suns and grasses\\n\\nHe's been rushing himself\\nThinking he's following you to find a home\\nHe's never understood\\nHe's been walking alongside you this whole time\\n\\nHow can I stand my ground, when I get the feeling\\nI'll be standing on my own\\nOn my own, on my own, on my own\\nOn my own, on my own, on my own\\nOn my own, on my own, on my own\\nOn my own, on my own, on my own\\n\\nHow can I guard you, when I don't know how to fight?\\nHow can I guard you?\\nHow can I guard you, when I don't know how to fight?\\nHow can I guard you?\\nHow can I guard you?\\nHow can I guard you?\\nHow can I guard you, when I don't know how to fight?\\nHow can I guard you?\\nHow can I guard you?\\nHow can I guard you?\\n\\nSloppily\\nOn my own\\nSloppily\\nOn my own\\nSloppily, sloppily, sloppily\\nOn my own, on my own, on my own\\nSloppily, sloppily, sloppily\\nOn my own, on my own, on my own (Hey!)</td>\n",
       "    </tr>\n",
       "    <tr>\n",
       "      <th>4</th>\n",
       "      <td>Kwiat Jabłoni</td>\n",
       "      <td>Byl Tam Gdzie Byl</td>\n",
       "      <td>Nieważne jak, nieważne gdzie\\nOn zawsze był z kimś\\nZawsze był z kimś on\\n\\nWysoko w górach czy na dnie\\nOn nigdy nie był sam\\nNigdy nie był sam, nie\\n\\nMniej więcej tam, gdzie splot słoneczny\\nBył ktoś i budził go\\nCo dzień budził go ze snu\\nGdy tylko ciszy było więcej\\nWtedy zaczynał czuć\\nŻe jest ich w sumie dwóch\\nŻe jest ich w sumie dwóch\\n\\nUcieka, kiedy tylko się da\\nChociaż nie ma szans\\nBiega szybciej, niż biegnie on sam\\nPrzed sobą ukryć się nie ma jak\\nOn był zawsze tam, gdzie był ze sobą\\n\\nCzasami w nocy nie mógł spać\\nSiedział przy oknie i szukał wzrokiem nowych miejsc\\nWyjedzie stąd jak przyjdzie czas\\nI w końcu będzie tam\\nBez tego, co mu robi źle\\n\\nMniej więcej tam, gdzie patrzył wtedy\\nZnalazł swój nowy dom\\nW którym miał się dobrze czuć\\nTeraz przy nowym oknie siedzi\\nI coraz częściej stare myśli przychodzą\\nStare myśli przychodzą\\n\\n[x2]:\\nUcieka, kiedy tylko się da\\nChociaż nie ma szans\\nBiega szybciej, niż biegnie on sam\\nPrzed sobą ukryć się nie ma jak\\n\\nOn był zawsze tam, gdzie był ze sobą\\nOn był zawsze tam, gdzie był ze sobą\\nOn był zawsze tam, gdzie był ze sobą\\nOn był zawsze tam, gdzie był ze sobą\\n\\nOn był zawsze tam, gdzie był ze sobą</td>\n",
       "      <td>NaN</td>\n",
       "    </tr>\n",
       "  </tbody>\n",
       "</table>\n",
       "</div>"
      ],
      "text/plain": [
       "          Author              Title  \\\n",
       "0  Kwiat Jabłoni    Hot16Challenge2   \n",
       "1  Kwiat Jabłoni            Bankiet   \n",
       "2  Kwiat Jabłoni             Buka 1   \n",
       "3  Kwiat Jabłoni           Byle Jak   \n",
       "4  Kwiat Jabłoni  Byl Tam Gdzie Byl   \n",
       "\n",
       "                                                                                                                                                                                                                                                                                                                                                                                                                                                                                                                                                                                                                                                                                                                                                                                                                                                                                                                                                                                                                                                                                                                                                                                                                                                                                                                                                                                                                                                                                                                                                               Polish  \\\n",
       "0                                                                                                                                                                                                                                                                                                                                                                                                                                                                                                                                                                                                                                                                                                                                                                                                                                           To jest nasz pierwszy raz w życiu,\\nNigdy nie było tak jeszcze,\\nTak, że oboje piszemy jeden tekst.\\nJuż dwa miesiące w ukryciu,\\nTen sam jest obiad i przestrzeń.\\nDzielimy te same myśli, więc słowa też.\\nKażdego dnia, każdej nocy\\nTa jedna myśl, a nie tysiąc:\\nCo byłoby gdyby nie było tego, co było.\\nNie mamy specjalnych mocy,\\nAle możemy przysiąc,\\nŻe tak na życie się wcześniej nie patrzyło.\\n\\nMamy tylko tu i teraz.\\nBrakuje słów, zaczniemy od zera.\\nTu i teraz.\\nBrakuje słów, zaczniemy od zera.\\nTu i teraz.\\nBrakuje słów, zaczniemy od zera.\\n\\nNominujemy Jacka Stachurskiego,\\nJurka Owsiaka, Sorry Boys, naszego Starego.\\nJacka Stachurskiego,\\nJurka Owsiaka, Sorry Boys, naszego Starego.   \n",
       "1                                                                                                                                                                                                                                                To tylko kolejny uścisk dłoni\\r\\nPod stołem by nikt nie widział\\r\\nTo tylko kolejne słowa\\r\\nPadły by nikt nie usłyszał\\n\\r\\nA Ty jesteś spokojny i tak\\r\\nJak zawsze od lat na raz\\r\\nStajesz się wolny na dwa\\r\\nOślepniesz na świat\\n\\r\\nJesteś kolejną twarzą\\r\\nDaleko na końcu bankietu\\r\\nPłyniesz cicho jak rzeka\\r\\nZ rozpędu trafiasz do celu\\n\\r\\n[Ref]\\r\\nTylko nie przegap dnia\\r\\nJak gwiazdy spadające\\r\\nI nie przegap dnia\\r\\nZnika na horyzoncie\\n\\r\\nNie przegap dnia\\r\\nJak gwiazdy spadające\\r\\nI nie przegap dnia\\r\\nZnika na horyzoncie\\n\\r\\nMówisz, że takie są czasy\\r\\nI od nas nic nie zależy\\r\\nŻadne z nas nic nie znaczy\\r\\nKażdy ruch w pustkę uderzy\\n\\r\\nA Ty jesteś spokojny i tak\\r\\nJak zawsze od lat na raz\\r\\nStaniesz się wolny na dwa\\r\\nOślepniesz na świat\\n\\r\\nJesteś kolejną twarzą\\r\\nDaleko na końcu bankietu\\r\\nPłyniesz cicho jak rzeka\\r\\nZ rozpędu trafiasz do celu\\n\\r\\n[Ref]\\r\\nTylko nie przegap dnia\\r\\nJak gwiazdy spadające\\r\\nI nie przegap dnia\\r\\nZnika na horyzoncie\\n\\r\\nNie przegap dnia\\r\\nJak gwiazdy spadające\\r\\nI nie przegap dnia\\r\\nZnika na horyzoncie\\n\\r\\nNie przegap dnia\\r\\nJak gwiazdy spadające\\r\\nI nie przegap dnia\\r\\nZnika na horyzoncie\\n\\r\\nNie przegap dnia\\r\\nJak gwiazdy spadające\\r\\nI nie przegap dnia\\r\\nZnika na horyzoncie   \n",
       "2                                                                                                                                                                                                                                                                                                                                                                        W dolinie spokój\\r\\nA w niej wreszcie mieszkam ja\\r\\nŚwiat mam na oku\\r\\nI taki już jest od lat\\n\\r\\nI pytasz czemu na trawie jest szron\\r\\nI skąd nadchodzi czarny front\\r\\nChmur, które idą do nas\\r\\nWiatr wieje ze wszystkich stron\\r\\nLepiej zamknę drzwi\\n\\r\\nWiem, że nie ma nic gorszego niż Buka\\r\\nMówi, że wróci, ale nie wiesz kiedy\\r\\nI stanie pod domem, bo siebie się nie da oszukać\\r\\nStrach jest ten sam, jak wtedy\\n\\r\\nWyglądam przez okno\\r\\nRaczej nie przyszedł nikt\\r\\nAle podobno\\r\\nNie wszystko widać gdy...\\n\\r\\nNa szybach i na trawie jest szron\\r\\nGdy nadchodzi czarny front\\r\\nChmur, które idą do nas\\r\\nWiatr wieje ze wszystkich stron\\r\\nLepiej zamknę drzwi\\n\\r\\nWiem, że nie ma nic gorszego niż Buka\\r\\nMówi, że wróci, ale nie wiesz kiedy\\r\\nI stanie pod domem, bo siebie się nie da oszukać\\r\\nStrach jest ten sam, jak wtedy\\n\\r\\nWiem, że nie ma nic gorszego niż Buka\\r\\nMówi, że wróci, ale nie wiesz kiedy\\r\\nI stanie pod domem, bo siebie się nie da oszukać\\r\\nStrach jest ten sam, jak wtedy\\n\\r\\nPo tylu latach wiem już na pewno\\r\\nŻe kiedy przyjdzie jasne będzie jedno\\r\\nZłe myśli nie były tego warte\\r\\nZostawię drzwi otwarte   \n",
       "3  Latami pracuje ciężko\\r\\nTnąc gałąź, na której ciągle siedzi sam\\r\\nDni co raz szybciej biegną\\r\\nLecz jeszcze dzisiaj nie sięgnie dna\\n\\r\\nJesteś dla niego przestrzenią\\r\\nPopisów polem i miejscem ważnych spraw\\r\\nGdy spadnie będzie pewien\\r\\nNie byłaś polem a celem\\n\\r\\nJak mam obronić ziemię i jak walczyć nie wiem\\r\\nI wszystko robię byle jak\\r\\nByle jak, byle jak, byle jak\\r\\nByle jak, byle jak, byle jak\\r\\nByle jak, byle jak, byle jak\\n\\r\\nMyślał, że zna Cię na wylot\\r\\nŻe da się zmierzyć Cię według jego praw\\r\\nZważyć i wycenić wszystko\\r\\nCo znajdzie pośród słońc i traw\\n\\r\\nSamego siebie wyprzedzał\\r\\nMyślał, że idzie po Tobie by znaleźć dom\\r\\nNigdy tego nie pojął\\r\\nNie szedł po Tobie, lecz z Tobą\\n\\r\\nJak mam obronić ziemię, kiedy mam wrażenie\\r\\nŻe bronić będę całkiem sam\\r\\nCałkiem sam, całkiem sam, całkiem sam\\r\\nCałkiem sam, całkiem sam, całkiem sam\\r\\nCałkiem sam, całkiem sam, całkiem sam\\r\\nCałkiem sam, całkiem sam, całkiem sam\\n\\r\\nJak mam bronić Ciebie, gdy jak walczyć nie wiem?\\r\\nJak mam bronić Ciebie?\\r\\nJak mam bronić Ciebie, gdy jak walczyć nie wiem?\\r\\nJak mam bronić Ciebie?\\r\\nJak mam bronić Ciebie?\\r\\nJak mam bronić Ciebie?\\r\\nJak mam bronić Ciebie, gdy jak walczyć nie wiem?\\r\\nJak mam bronić Ciebie?\\r\\nJak mam bronić Ciebie?\\r\\nJak mam bronić Ciebie?\\n\\r\\nByle jak\\r\\nCałkiem sam\\r\\nByle jak\\r\\nCałkiem sam\\r\\nByle jak, byle jak, byle jak\\r\\nCałkiem sam, całkiem sam, całkiem sam\\r\\nByle jak, byle jak, byle jak\\r\\nCałkiem sam, całkiem sam, całkiem sam (Ej!)   \n",
       "4                                                                                                                                                                                                                                                                                                                                    Nieważne jak, nieważne gdzie\\nOn zawsze był z kimś\\nZawsze był z kimś on\\n\\nWysoko w górach czy na dnie\\nOn nigdy nie był sam\\nNigdy nie był sam, nie\\n\\nMniej więcej tam, gdzie splot słoneczny\\nBył ktoś i budził go\\nCo dzień budził go ze snu\\nGdy tylko ciszy było więcej\\nWtedy zaczynał czuć\\nŻe jest ich w sumie dwóch\\nŻe jest ich w sumie dwóch\\n\\nUcieka, kiedy tylko się da\\nChociaż nie ma szans\\nBiega szybciej, niż biegnie on sam\\nPrzed sobą ukryć się nie ma jak\\nOn był zawsze tam, gdzie był ze sobą\\n\\nCzasami w nocy nie mógł spać\\nSiedział przy oknie i szukał wzrokiem nowych miejsc\\nWyjedzie stąd jak przyjdzie czas\\nI w końcu będzie tam\\nBez tego, co mu robi źle\\n\\nMniej więcej tam, gdzie patrzył wtedy\\nZnalazł swój nowy dom\\nW którym miał się dobrze czuć\\nTeraz przy nowym oknie siedzi\\nI coraz częściej stare myśli przychodzą\\nStare myśli przychodzą\\n\\n[x2]:\\nUcieka, kiedy tylko się da\\nChociaż nie ma szans\\nBiega szybciej, niż biegnie on sam\\nPrzed sobą ukryć się nie ma jak\\n\\nOn był zawsze tam, gdzie był ze sobą\\nOn był zawsze tam, gdzie był ze sobą\\nOn był zawsze tam, gdzie był ze sobą\\nOn był zawsze tam, gdzie był ze sobą\\n\\nOn był zawsze tam, gdzie był ze sobą   \n",
       "\n",
       "                                                                                                                                                                                                                                                                                                                                                                                                                                                                                                                                                                                                                                                                                                                                                                                                                                                                                                                                                                                                                                                                                                                                                                                                                                                                                                                                                                                                                                                                                                                                                                                                                                                                                                                                                                                                                                            English  \n",
       "0                                                                                                                                                                                                                                                                                                                                                                                                                                                                                                                                                                                                                                                                                                                                                                                                                                                                                                                                                                                                That's the first time in our lives\\nIt never happened before\\nThat the both of us are writing the same lyrics\\nTwo months, already, we're hidden\\nIt's the same dinner and and same space\\nSharing the same thoughts, our words, too, are the same\\nEvery single day and night\\nThat single thought, not a thousand\\nWhat would've happened if what happened hadn't have happened\\nWe don't have special powers\\nBut we can promise you this\\nThis isn't how one used to look at life before now\\n\\nWe've only got here and now\\nFor the lack of words, we'll start from scratch\\nHere and now\\nFor the lack of words, we'll start from scratch\\nHere and now\\nFor the lack of words, we'll start from scratch\\n\\nWe nominate Jacek Stachursky,\\nJurek Owsiak, Sorry Boys, our Old Man.\\nJacek Stachursky,\\nJurek Owsiak, Sorry Boys, our Old Man.  \n",
       "1  [Title: The Banquet]\\nIt's just another handshake\\nUnder the table so that nobody sees it\\nIt's just another words\\nSpoken so that nobody hears it\\n\\nAnd you compose yourself anyway\\nOn one, as you've always done before\\nFreeing yourself, on two\\nLosing sight of what's around you\\n\\nYou're just another face\\nDeep at the back of the banquet\\nFlowing silently like a river\\nThe momentum brings you to your target\\n\\n[Chorus]\\nJust don't let the day slip through your fingers\\nLike the falling stars\\nAnd don't let the day slip through your fingers\\nIt's disappearing on the horizon\\n\\nDon't let the day slip through your fingers\\nLike the falling stars\\nAnd don't let the day slip through your fingers\\nIt's disappearing on the horizon\\n\\nYou're saying it's the times we're living in\\nIt's all out of our control\\nWe don't have any meaning\\nAll our struggles will come to nothing\\n\\nAnd you compose yourself anyway\\nOn one, as you've always done before\\nFreeing yourself, on two\\nLosing sight of what's around you\\n\\nYou're just another face\\nDeep at the back of the banquet\\nFlowing silently like a river\\nThe momentum brings you to your target\\n\\n[Chorus]\\nJust don't let the day slip through your fingers\\nLike the falling stars\\nAnd don't let the day slip through your fingers\\nIt's disappearing on the horizon\\n\\nDon't let the day slip through your fingers\\nLike the falling stars\\nAnd don't let the day slip through your fingers\\nIt's disappearing on the horizon\\n\\nDon't let the day slip through your fingers\\nLike the falling stars\\nAnd don't let the day slip through your fingers\\nIt's disappearing on the horizon\\n\\nDon't let the day slip through your fingers\\nLike the falling stars\\nAnd don't let the day slip through your fingers\\nIt's disappearing on the horizon  \n",
       "2                                                                                                                                                                                                                                                                                                                                                                                                                                                                                                  In the valley there is a peace\\nAnd finally I live in there\\nI have an eye on the universe\\nAnd it's been like this over the years\\n\\nAnd you ask me why there is a hoarfrost on a grass\\nAnd where black front is coming from\\nClouds that are coming to us, wind is blowing from the all sides\\nI'd better close the doors\\n\\nI know that there is nothing worse than Buka\\nIt says, that it'll come back but you don't know when\\nAnd it will stand in front of the house\\nFear is the same, as it was before\\n\\nI look outside the window\\nI don't think anybody has shown up\\nBut supposedly\\nYou can't see everything when...\\n\\nOn the glass, on the grass there is a hoarfrost\\nWhen the black front is coming\\nClouds that are coming to us, wind is blowing from the all sides\\nI'd better close the doors\\n\\nI know that there is nothing worse than Buka\\nIt says, that it'll come back but you don't know when\\nAnd it will stand in front of the house\\nFear is the same, as it was before\\n\\nI know that there is nothing worse than Buka\\nIt says, that it'll come back but you don't know when\\nAnd it will stand in front of the house\\nFear is the same, as it was before\\n\\nAfter these years I know for sure\\nThat when it'll come, one thing is going to be clear\\nBad thoughts weren't worth it\\nI'll leave my doors open  \n",
       "3                                                                                                                                                                                                                                                    [Title: Sloppily]\\nThroughout the years he's been working hard\\nSawing off the branch he's been sitting on\\nThe days are fleeting ever so quicker\\nBut today's not the day he hits the bottom\\n\\nHe sees you as an expanse\\nA place to show off and for matters of great importance\\nWhen he falls down he'll know\\nYou weren't a place, but the purpose\\n\\nHow can I stand my ground and how can I fight, I wonder\\nAnd I'm doing everything sloppily\\nSloppily, sloppily, sloppily\\nSloppily, sloppily, sloppily\\nSloppily, sloppily, sloppily\\n\\nHe thought he could see through you\\nThat he could measure you by his standards\\nWeigh and appraise everything\\nHe'll find among the suns and grasses\\n\\nHe's been rushing himself\\nThinking he's following you to find a home\\nHe's never understood\\nHe's been walking alongside you this whole time\\n\\nHow can I stand my ground, when I get the feeling\\nI'll be standing on my own\\nOn my own, on my own, on my own\\nOn my own, on my own, on my own\\nOn my own, on my own, on my own\\nOn my own, on my own, on my own\\n\\nHow can I guard you, when I don't know how to fight?\\nHow can I guard you?\\nHow can I guard you, when I don't know how to fight?\\nHow can I guard you?\\nHow can I guard you?\\nHow can I guard you?\\nHow can I guard you, when I don't know how to fight?\\nHow can I guard you?\\nHow can I guard you?\\nHow can I guard you?\\n\\nSloppily\\nOn my own\\nSloppily\\nOn my own\\nSloppily, sloppily, sloppily\\nOn my own, on my own, on my own\\nSloppily, sloppily, sloppily\\nOn my own, on my own, on my own (Hey!)  \n",
       "4                                                                                                                                                                                                                                                                                                                                                                                                                                                                                                                                                                                                                                                                                                                                                                                                                                                                                                                                                                                                                                                                                                                                                                                                                                                                                                                                                                                                                                                                                                                                                                                                                                                                                                                                                                                                                                               NaN  "
      ]
     },
     "execution_count": 11,
     "metadata": {},
     "output_type": "execute_result"
    }
   ],
   "source": [
    "df.head()"
   ]
  },
  {
   "cell_type": "code",
   "execution_count": 12,
   "metadata": {},
   "outputs": [
    {
     "data": {
      "text/plain": [
       "0"
      ]
     },
     "execution_count": 12,
     "metadata": {},
     "output_type": "execute_result"
    }
   ],
   "source": [
    "df.duplicated().sum()"
   ]
  },
  {
   "cell_type": "code",
   "execution_count": null,
   "metadata": {},
   "outputs": [],
   "source": []
  }
 ],
 "metadata": {
  "kernelspec": {
   "display_name": "Python 3",
   "language": "python",
   "name": "python3"
  },
  "language_info": {
   "codemirror_mode": {
    "name": "ipython",
    "version": 3
   },
   "file_extension": ".py",
   "mimetype": "text/x-python",
   "name": "python",
   "nbconvert_exporter": "python",
   "pygments_lexer": "ipython3",
   "version": "3.10.9"
  },
  "orig_nbformat": 4
 },
 "nbformat": 4,
 "nbformat_minor": 2
}
