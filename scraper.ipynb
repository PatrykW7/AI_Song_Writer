{
 "cells": [
  {
   "cell_type": "code",
   "execution_count": 1,
   "metadata": {},
   "outputs": [],
   "source": [
    "import requests\n",
    "from bs4 import BeautifulSoup\n",
    "import re\n",
    "import pandas as pd\n",
    "import numpy as np\n",
    "\n",
    "pd.set_option('display.max_rows', 500)\n",
    "pd.set_option('display.max_columns', 500)\n",
    "pd.set_option('display.width', 1000)\n",
    "pd.set_option('display.max_columns', None)\n",
    "pd.set_option('max_colwidth', 800)\n",
    "pd.set_option('display.max_colwidth', None)\n",
    "\n",
    "import warnings\n",
    "warnings.simplefilter(action='ignore', category=FutureWarning)"
   ]
  },
  {
   "cell_type": "code",
   "execution_count": 14,
   "metadata": {},
   "outputs": [
    {
     "name": "stdout",
     "output_type": "stream",
     "text": [
      "37\n"
     ]
    }
   ],
   "source": [
    "najpopularniejsi_artysci = [\n",
    "    \"Sanah\",\n",
    "    \"Camila Cabello\",\n",
    "    \"The Beatles\",\n",
    "    \"Red Hot Chili Peppers\",\n",
    "    \"Violetta Villas\",\n",
    "    \"T Love\",\n",
    "    \"Ewa Farna\",\n",
    "    \"Cleo\",\n",
    "    \"Margaret\",\n",
    "    \"Sylwia Przybysz\",\n",
    "    \"Maryla Rodowicz\",\n",
    "    \"Czeslaw Niemen\",\n",
    "    \"Maciej Malenczuk\",\n",
    "    \"Dzem\",\n",
    "    \"Kult\",\n",
    "    \"Budka Suflera\",\n",
    "    \"Marek Grechuta\",\n",
    "    \"Republika\",\n",
    "    \"Edyta Bartosiewicz\",\n",
    "    \"Wilki\",\n",
    "    \"Varius Manx\",\n",
    "    \"Peja\",\n",
    "    \"Kizo\",\n",
    "    \"Paktofonika\",\n",
    "    \"Baciary\",\n",
    "    \"Weekend\",\n",
    "    \"Boys\",\n",
    "    \"Pezet\",\n",
    "    \"Natalia Szroeder\",\n",
    "    \"Kamil Bednarek\",\n",
    "    \"Roksana Wegiel\",\n",
    "    \"Mata\",\n",
    "    \"Sobel\",\n",
    "    \"Sokol\",\n",
    "    \"Taco Hemingway\",\n",
    "    \"Young Multi\",\n",
    "    \"Daria Zawialow\"\n",
    "    \n",
    "\n",
    "]\n",
    "new = []\n",
    "print(len(najpopularniejsi_artysci))\n",
    "for i in najpopularniejsi_artysci:\n",
    "    new.append(i.replace(\" \",\"_\").lower())\n",
    "    #break"
   ]
  },
  {
   "cell_type": "code",
   "execution_count": 16,
   "metadata": {},
   "outputs": [
    {
     "data": {
      "text/plain": [
       "['sanah',\n",
       " 'camila_cabello',\n",
       " 'the_beatles',\n",
       " 'red_hot_chili_peppers',\n",
       " 'violetta_villas',\n",
       " 't_love',\n",
       " 'ewa_farna',\n",
       " 'cleo',\n",
       " 'margaret',\n",
       " 'sylwia_przybysz',\n",
       " 'maryla_rodowicz',\n",
       " 'czeslaw_niemen',\n",
       " 'maciej_malenczuk',\n",
       " 'dzem',\n",
       " 'kult',\n",
       " 'budka_suflera',\n",
       " 'marek_grechuta',\n",
       " 'republika',\n",
       " 'edyta_bartosiewicz',\n",
       " 'wilki',\n",
       " 'varius_manx',\n",
       " 'peja',\n",
       " 'kizo',\n",
       " 'paktofonika',\n",
       " 'baciary',\n",
       " 'weekend',\n",
       " 'boys',\n",
       " 'pezet',\n",
       " 'natalia_szroeder',\n",
       " 'kamil_bednarek',\n",
       " 'roksana_wegiel',\n",
       " 'mata',\n",
       " 'sobel',\n",
       " 'sokol',\n",
       " 'taco_hemingway',\n",
       " 'young_multi',\n",
       " 'daria_zawialow']"
      ]
     },
     "execution_count": 16,
     "metadata": {},
     "output_type": "execute_result"
    }
   ],
   "source": [
    "new"
   ]
  },
  {
   "cell_type": "markdown",
   "metadata": {},
   "source": [
    "### New"
   ]
  },
  {
   "cell_type": "code",
   "execution_count": 17,
   "metadata": {},
   "outputs": [
    {
     "name": "stdout",
     "output_type": "stream",
     "text": [
      "https://www.tekstowo.pl/piosenki_artysty,sanah,alfabetycznie,strona,1.html\n",
      "https://www.tekstowo.pl/piosenki_artysty,camila_cabello,alfabetycznie,strona,1.html\n",
      "https://www.tekstowo.pl/piosenki_artysty,the_beatles,alfabetycznie,strona,1.html\n",
      "https://www.tekstowo.pl/piosenki_artysty,red_hot_chili_peppers,alfabetycznie,strona,1.html\n",
      "https://www.tekstowo.pl/piosenki_artysty,violetta_villas,alfabetycznie,strona,1.html\n",
      "https://www.tekstowo.pl/piosenki_artysty,t_love,alfabetycznie,strona,1.html\n",
      "https://www.tekstowo.pl/piosenki_artysty,ewa_farna,alfabetycznie,strona,1.html\n",
      "https://www.tekstowo.pl/piosenki_artysty,cleo,alfabetycznie,strona,1.html\n",
      "https://www.tekstowo.pl/piosenki_artysty,margaret,alfabetycznie,strona,1.html\n",
      "https://www.tekstowo.pl/piosenki_artysty,sylwia_przybysz,alfabetycznie,strona,1.html\n",
      "https://www.tekstowo.pl/piosenki_artysty,maryla_rodowicz,alfabetycznie,strona,1.html\n",
      "https://www.tekstowo.pl/piosenki_artysty,czeslaw_niemen,alfabetycznie,strona,1.html\n",
      "https://www.tekstowo.pl/piosenki_artysty,maciej_malenczuk,alfabetycznie,strona,1.html\n",
      "https://www.tekstowo.pl/piosenki_artysty,dzem,alfabetycznie,strona,1.html\n",
      "https://www.tekstowo.pl/piosenki_artysty,kult,alfabetycznie,strona,1.html\n",
      "https://www.tekstowo.pl/piosenki_artysty,budka_suflera,alfabetycznie,strona,1.html\n",
      "https://www.tekstowo.pl/piosenki_artysty,marek_grechuta,alfabetycznie,strona,1.html\n",
      "https://www.tekstowo.pl/piosenki_artysty,republika,alfabetycznie,strona,1.html\n",
      "https://www.tekstowo.pl/piosenki_artysty,edyta_bartosiewicz,alfabetycznie,strona,1.html\n",
      "https://www.tekstowo.pl/piosenki_artysty,wilki,alfabetycznie,strona,1.html\n",
      "https://www.tekstowo.pl/piosenki_artysty,varius_manx,alfabetycznie,strona,1.html\n",
      "https://www.tekstowo.pl/piosenki_artysty,peja,alfabetycznie,strona,1.html\n",
      "https://www.tekstowo.pl/piosenki_artysty,kizo,alfabetycznie,strona,1.html\n",
      "https://www.tekstowo.pl/piosenki_artysty,paktofonika,alfabetycznie,strona,1.html\n",
      "https://www.tekstowo.pl/piosenki_artysty,baciary,alfabetycznie,strona,1.html\n",
      "https://www.tekstowo.pl/piosenki_artysty,weekend,alfabetycznie,strona,1.html\n",
      "https://www.tekstowo.pl/piosenki_artysty,boys,alfabetycznie,strona,1.html\n",
      "https://www.tekstowo.pl/piosenki_artysty,pezet,alfabetycznie,strona,1.html\n",
      "https://www.tekstowo.pl/piosenki_artysty,natalia_szroeder,alfabetycznie,strona,1.html\n",
      "https://www.tekstowo.pl/piosenki_artysty,kamil_bednarek,alfabetycznie,strona,1.html\n",
      "https://www.tekstowo.pl/piosenki_artysty,roksana_wegiel,alfabetycznie,strona,1.html\n",
      "https://www.tekstowo.pl/piosenki_artysty,mata,alfabetycznie,strona,1.html\n",
      "https://www.tekstowo.pl/piosenki_artysty,sobel,alfabetycznie,strona,1.html\n",
      "https://www.tekstowo.pl/piosenki_artysty,sokol,alfabetycznie,strona,1.html\n",
      "https://www.tekstowo.pl/piosenki_artysty,taco_hemingway,alfabetycznie,strona,1.html\n",
      "https://www.tekstowo.pl/piosenki_artysty,young_multi,alfabetycznie,strona,1.html\n",
      "https://www.tekstowo.pl/piosenki_artysty,daria_zawialow,alfabetycznie,strona,1.html\n"
     ]
    }
   ],
   "source": [
    "def data_scrap(new):\n",
    "\n",
    "    df = None\n",
    "    part_link = 'https://www.tekstowo.pl'\n",
    "    df = pd.DataFrame(data = {\"Link\":[]})\n",
    "    for i in new:\n",
    "        artist_link = f\"https://www.tekstowo.pl/piosenki_artysty,{i},alfabetycznie,strona,1.html\"\n",
    "\n",
    "        print(artist_link)\n",
    "        \n",
    "        page = requests.get(artist_link)\n",
    "        soup = BeautifulSoup(page.text, \"lxml\")\n",
    "\n",
    "        max_num_page = soup.find_all(\"a\", class_ = \"page-link\")[-2].text\n",
    "        max_num_page = int(max_num_page)\n",
    "        # print(max_num_page)\n",
    "        \n",
    "        \n",
    "        for num_page in range(1,max_num_page+1):\n",
    "            num_page = int(num_page)\n",
    "            # print(num_page)\n",
    "            boxes = soup.find_all(\"div\", class_ = \"flex-group\")\n",
    "            \n",
    "            for box in boxes:\n",
    "                try:\n",
    "                    #label = box.find(\"div\",class_ = \"flex-group\").text\n",
    "                    link = box.find(\"a\",class_ = \"title\").get(\"href\")\n",
    "                    song_link = part_link + link\n",
    "                    #print(song_link)\n",
    "                    df = df.append({\"Link\": song_link}, ignore_index = True)\n",
    "                    \n",
    "                    #df = df_text.append({\"Text\":box}, ignore_index = True)   \n",
    "                except:\n",
    "                    pass\n",
    "            \n",
    "            next_number_page = num_page + 1\n",
    "            next_page = f\"https://www.tekstowo.pl/piosenki_artysty,{i},alfabetycznie,strona,{next_number_page}.html\"\n",
    "            # print(next_page)\n",
    "            page = requests.get(next_page)\n",
    "            soup = BeautifulSoup(page.text, \"lxml\")\n",
    "\n",
    "              \n",
    "    return df   \n",
    "\n",
    "df = data_scrap(new)\n"
   ]
  },
  {
   "cell_type": "code",
   "execution_count": 9,
   "metadata": {},
   "outputs": [
    {
     "data": {
      "text/html": [
       "<div>\n",
       "<style scoped>\n",
       "    .dataframe tbody tr th:only-of-type {\n",
       "        vertical-align: middle;\n",
       "    }\n",
       "\n",
       "    .dataframe tbody tr th {\n",
       "        vertical-align: top;\n",
       "    }\n",
       "\n",
       "    .dataframe thead th {\n",
       "        text-align: right;\n",
       "    }\n",
       "</style>\n",
       "<table border=\"1\" class=\"dataframe\">\n",
       "  <thead>\n",
       "    <tr style=\"text-align: right;\">\n",
       "      <th></th>\n",
       "      <th>Link</th>\n",
       "    </tr>\n",
       "  </thead>\n",
       "  <tbody>\n",
       "    <tr>\n",
       "      <th>0</th>\n",
       "      <td>https://www.tekstowo.pl/piosenka,sanah,_ii__da_bog_kiedys_zasiasc_w_polsce_wolnej__a__asnyk_.html</td>\n",
       "    </tr>\n",
       "    <tr>\n",
       "      <th>1</th>\n",
       "      <td>https://www.tekstowo.pl/piosenka,sanah,_i__da_bog_kiedys_zasiasc_w_polsce_wolnej__a__asnyk_.html</td>\n",
       "    </tr>\n",
       "    <tr>\n",
       "      <th>2</th>\n",
       "      <td>https://www.tekstowo.pl/piosenka,sanah,_hot16challenge2.html</td>\n",
       "    </tr>\n",
       "    <tr>\n",
       "      <th>3</th>\n",
       "      <td>https://www.tekstowo.pl/piosenka,sanah,2_00.html</td>\n",
       "    </tr>\n",
       "    <tr>\n",
       "      <th>4</th>\n",
       "      <td>https://www.tekstowo.pl/piosenka,sanah,2_10.html</td>\n",
       "    </tr>\n",
       "    <tr>\n",
       "      <th>5</th>\n",
       "      <td>https://www.tekstowo.pl/piosenka,sanah,ale_jazz___na_jazzowo.html</td>\n",
       "    </tr>\n",
       "    <tr>\n",
       "      <th>6</th>\n",
       "      <td>https://www.tekstowo.pl/piosenka,sanah,ale_jazz_feat__vito_bambino.html</td>\n",
       "    </tr>\n",
       "    <tr>\n",
       "      <th>7</th>\n",
       "      <td>https://www.tekstowo.pl/piosenka,sanah,alternatywka.html</td>\n",
       "    </tr>\n",
       "    <tr>\n",
       "      <th>8</th>\n",
       "      <td>https://www.tekstowo.pl/piosenka,sanah,aniolom_szepnij_to.html</td>\n",
       "    </tr>\n",
       "    <tr>\n",
       "      <th>9</th>\n",
       "      <td>https://www.tekstowo.pl/piosenka,sanah,audi__feat__mietha_.html</td>\n",
       "    </tr>\n",
       "    <tr>\n",
       "      <th>10</th>\n",
       "      <td>https://www.tekstowo.pl/piosenka,sanah,baczynski__pisz_do_mnie_listy___feat__ania_dabrowska_.html</td>\n",
       "    </tr>\n",
       "    <tr>\n",
       "      <th>11</th>\n",
       "      <td>https://www.tekstowo.pl/piosenka,sanah,bajka__k_k_baczynski_.html</td>\n",
       "    </tr>\n",
       "    <tr>\n",
       "      <th>12</th>\n",
       "      <td>https://www.tekstowo.pl/piosenka,sanah,beautiful_release.html</td>\n",
       "    </tr>\n",
       "  </tbody>\n",
       "</table>\n",
       "</div>"
      ],
      "text/plain": [
       "                                                                                                 Link\n",
       "0   https://www.tekstowo.pl/piosenka,sanah,_ii__da_bog_kiedys_zasiasc_w_polsce_wolnej__a__asnyk_.html\n",
       "1    https://www.tekstowo.pl/piosenka,sanah,_i__da_bog_kiedys_zasiasc_w_polsce_wolnej__a__asnyk_.html\n",
       "2                                        https://www.tekstowo.pl/piosenka,sanah,_hot16challenge2.html\n",
       "3                                                    https://www.tekstowo.pl/piosenka,sanah,2_00.html\n",
       "4                                                    https://www.tekstowo.pl/piosenka,sanah,2_10.html\n",
       "5                                   https://www.tekstowo.pl/piosenka,sanah,ale_jazz___na_jazzowo.html\n",
       "6                             https://www.tekstowo.pl/piosenka,sanah,ale_jazz_feat__vito_bambino.html\n",
       "7                                            https://www.tekstowo.pl/piosenka,sanah,alternatywka.html\n",
       "8                                      https://www.tekstowo.pl/piosenka,sanah,aniolom_szepnij_to.html\n",
       "9                                     https://www.tekstowo.pl/piosenka,sanah,audi__feat__mietha_.html\n",
       "10  https://www.tekstowo.pl/piosenka,sanah,baczynski__pisz_do_mnie_listy___feat__ania_dabrowska_.html\n",
       "11                                  https://www.tekstowo.pl/piosenka,sanah,bajka__k_k_baczynski_.html\n",
       "12                                      https://www.tekstowo.pl/piosenka,sanah,beautiful_release.html"
      ]
     },
     "execution_count": 9,
     "metadata": {},
     "output_type": "execute_result"
    }
   ],
   "source": [
    "df.head(13)"
   ]
  },
  {
   "cell_type": "code",
   "execution_count": 6,
   "metadata": {},
   "outputs": [],
   "source": [
    "def text_scrap(df):\n",
    "    df_text = None\n",
    "    df_text = pd.DataFrame(data = {\"Polish\":[], \n",
    "                                   \"English\": []})\n",
    "\n",
    "    for index, row in df.iterrows():\n",
    "        try:\n",
    "            \n",
    "            \n",
    "            page = requests.get(row[0])\n",
    "            #print(page)\n",
    "            soup = BeautifulSoup(page.text, \"lxml\")\n",
    "\n",
    "            original = soup.find_all(\"div\", class_ = \"inner-text\")[0].text\n",
    "            translated = soup.find_all(\"div\", class_ = \"inner-text\")[1].text\n",
    "\n",
    "            translated = np.nan if translated == \"\" else translated\n",
    "            new_data = None\n",
    "            df_temp = None\n",
    "            if re.search(r'[ąćęłńóśźżĄĆĘŁŃÓŚŹŻ]', original):\n",
    "\n",
    "                # df_text = df_text.append({\"Polish\":original, \"English\": translated}, ignore_index = True)\n",
    "                new_data = {\"Polish\": [original], \"English\": [translated]}\n",
    "                df_temp = pd.DataFrame(data = new_data)\n",
    "                df_text = pd.concat([df_text, df_temp], ignore_index = True)\n",
    "            else:\n",
    "\n",
    "                # df_text = df_text.append({\"Polish\":translated, \"English\":original}, ignore_index = True)\n",
    "                new_data = {\"Polish\":[translated], \"English\":[original]}\n",
    "                df_temp = pd.DataFrame(data = new_data)\n",
    "                df_text = pd.concat([df_text, df_temp], ignore_index = True)\n",
    "        except:\n",
    "            pass\n",
    "     \n",
    "    return df_text\n",
    "\n",
    "            \n",
    "df_text = text_scrap(df)"
   ]
  },
  {
   "cell_type": "code",
   "execution_count": 10,
   "metadata": {},
   "outputs": [],
   "source": [
    "# df_text"
   ]
  },
  {
   "cell_type": "code",
   "execution_count": 6,
   "metadata": {},
   "outputs": [
    {
     "name": "stdout",
     "output_type": "stream",
     "text": [
      "0\n",
      "184\n"
     ]
    },
    {
     "ename": "IndexError",
     "evalue": "positional indexers are out-of-bounds",
     "output_type": "error",
     "traceback": [
      "\u001b[1;31m---------------------------------------------------------------------------\u001b[0m",
      "\u001b[1;31mIndexError\u001b[0m                                Traceback (most recent call last)",
      "File \u001b[1;32mc:\\Users\\patry\\AppData\\Local\\Programs\\Python\\Python310\\lib\\site-packages\\pandas\\core\\indexing.py:1482\u001b[0m, in \u001b[0;36m_iLocIndexer._get_list_axis\u001b[1;34m(self, key, axis)\u001b[0m\n\u001b[0;32m   1481\u001b[0m \u001b[39mtry\u001b[39;00m:\n\u001b[1;32m-> 1482\u001b[0m     \u001b[39mreturn\u001b[39;00m \u001b[39mself\u001b[39;49m\u001b[39m.\u001b[39;49mobj\u001b[39m.\u001b[39;49m_take_with_is_copy(key, axis\u001b[39m=\u001b[39;49maxis)\n\u001b[0;32m   1483\u001b[0m \u001b[39mexcept\u001b[39;00m \u001b[39mIndexError\u001b[39;00m \u001b[39mas\u001b[39;00m err:\n\u001b[0;32m   1484\u001b[0m     \u001b[39m# re-raise with different error message\u001b[39;00m\n",
      "File \u001b[1;32mc:\\Users\\patry\\AppData\\Local\\Programs\\Python\\Python310\\lib\\site-packages\\pandas\\core\\generic.py:3716\u001b[0m, in \u001b[0;36mNDFrame._take_with_is_copy\u001b[1;34m(self, indices, axis)\u001b[0m\n\u001b[0;32m   3709\u001b[0m \u001b[39m\"\"\"\u001b[39;00m\n\u001b[0;32m   3710\u001b[0m \u001b[39mInternal version of the `take` method that sets the `_is_copy`\u001b[39;00m\n\u001b[0;32m   3711\u001b[0m \u001b[39mattribute to keep track of the parent dataframe (using in indexing\u001b[39;00m\n\u001b[1;32m   (...)\u001b[0m\n\u001b[0;32m   3714\u001b[0m \u001b[39mSee the docstring of `take` for full explanation of the parameters.\u001b[39;00m\n\u001b[0;32m   3715\u001b[0m \u001b[39m\"\"\"\u001b[39;00m\n\u001b[1;32m-> 3716\u001b[0m result \u001b[39m=\u001b[39m \u001b[39mself\u001b[39;49m\u001b[39m.\u001b[39;49mtake(indices\u001b[39m=\u001b[39;49mindices, axis\u001b[39m=\u001b[39;49maxis)\n\u001b[0;32m   3717\u001b[0m \u001b[39m# Maybe set copy if we didn't actually change the index.\u001b[39;00m\n",
      "File \u001b[1;32mc:\\Users\\patry\\AppData\\Local\\Programs\\Python\\Python310\\lib\\site-packages\\pandas\\core\\generic.py:3703\u001b[0m, in \u001b[0;36mNDFrame.take\u001b[1;34m(self, indices, axis, is_copy, **kwargs)\u001b[0m\n\u001b[0;32m   3701\u001b[0m \u001b[39mself\u001b[39m\u001b[39m.\u001b[39m_consolidate_inplace()\n\u001b[1;32m-> 3703\u001b[0m new_data \u001b[39m=\u001b[39m \u001b[39mself\u001b[39;49m\u001b[39m.\u001b[39;49m_mgr\u001b[39m.\u001b[39;49mtake(\n\u001b[0;32m   3704\u001b[0m     indices, axis\u001b[39m=\u001b[39;49m\u001b[39mself\u001b[39;49m\u001b[39m.\u001b[39;49m_get_block_manager_axis(axis), verify\u001b[39m=\u001b[39;49m\u001b[39mTrue\u001b[39;49;00m\n\u001b[0;32m   3705\u001b[0m )\n\u001b[0;32m   3706\u001b[0m \u001b[39mreturn\u001b[39;00m \u001b[39mself\u001b[39m\u001b[39m.\u001b[39m_constructor(new_data)\u001b[39m.\u001b[39m__finalize__(\u001b[39mself\u001b[39m, method\u001b[39m=\u001b[39m\u001b[39m\"\u001b[39m\u001b[39mtake\u001b[39m\u001b[39m\"\u001b[39m)\n",
      "File \u001b[1;32mc:\\Users\\patry\\AppData\\Local\\Programs\\Python\\Python310\\lib\\site-packages\\pandas\\core\\internals\\managers.py:897\u001b[0m, in \u001b[0;36mBaseBlockManager.take\u001b[1;34m(self, indexer, axis, verify)\u001b[0m\n\u001b[0;32m    896\u001b[0m n \u001b[39m=\u001b[39m \u001b[39mself\u001b[39m\u001b[39m.\u001b[39mshape[axis]\n\u001b[1;32m--> 897\u001b[0m indexer \u001b[39m=\u001b[39m maybe_convert_indices(indexer, n, verify\u001b[39m=\u001b[39;49mverify)\n\u001b[0;32m    899\u001b[0m new_labels \u001b[39m=\u001b[39m \u001b[39mself\u001b[39m\u001b[39m.\u001b[39maxes[axis]\u001b[39m.\u001b[39mtake(indexer)\n",
      "File \u001b[1;32mc:\\Users\\patry\\AppData\\Local\\Programs\\Python\\Python310\\lib\\site-packages\\pandas\\core\\indexers\\utils.py:292\u001b[0m, in \u001b[0;36mmaybe_convert_indices\u001b[1;34m(indices, n, verify)\u001b[0m\n\u001b[0;32m    291\u001b[0m     \u001b[39mif\u001b[39;00m mask\u001b[39m.\u001b[39many():\n\u001b[1;32m--> 292\u001b[0m         \u001b[39mraise\u001b[39;00m \u001b[39mIndexError\u001b[39;00m(\u001b[39m\"\u001b[39m\u001b[39mindices are out-of-bounds\u001b[39m\u001b[39m\"\u001b[39m)\n\u001b[0;32m    293\u001b[0m \u001b[39mreturn\u001b[39;00m indices\n",
      "\u001b[1;31mIndexError\u001b[0m: indices are out-of-bounds",
      "\nThe above exception was the direct cause of the following exception:\n",
      "\u001b[1;31mIndexError\u001b[0m                                Traceback (most recent call last)",
      "\u001b[1;32mh:\\AI_Song_Writer\\scraper.ipynb Cell 8\u001b[0m line \u001b[0;36m<cell line: 3>\u001b[1;34m()\u001b[0m\n\u001b[0;32m      <a href='vscode-notebook-cell:/h%3A/AI_Song_Writer/scraper.ipynb#X10sZmlsZQ%3D%3D?line=0'>1</a>\u001b[0m \u001b[39mprint\u001b[39m(\u001b[39mlen\u001b[39m(df_text))\n\u001b[0;32m      <a href='vscode-notebook-cell:/h%3A/AI_Song_Writer/scraper.ipynb#X10sZmlsZQ%3D%3D?line=1'>2</a>\u001b[0m \u001b[39mprint\u001b[39m(\u001b[39mlen\u001b[39m(df))\n\u001b[1;32m----> <a href='vscode-notebook-cell:/h%3A/AI_Song_Writer/scraper.ipynb#X10sZmlsZQ%3D%3D?line=2'>3</a>\u001b[0m df_text\u001b[39m.\u001b[39;49miloc[[\u001b[39m1896\u001b[39;49m]]\n",
      "File \u001b[1;32mc:\\Users\\patry\\AppData\\Local\\Programs\\Python\\Python310\\lib\\site-packages\\pandas\\core\\indexing.py:967\u001b[0m, in \u001b[0;36m_LocationIndexer.__getitem__\u001b[1;34m(self, key)\u001b[0m\n\u001b[0;32m    964\u001b[0m axis \u001b[39m=\u001b[39m \u001b[39mself\u001b[39m\u001b[39m.\u001b[39maxis \u001b[39mor\u001b[39;00m \u001b[39m0\u001b[39m\n\u001b[0;32m    966\u001b[0m maybe_callable \u001b[39m=\u001b[39m com\u001b[39m.\u001b[39mapply_if_callable(key, \u001b[39mself\u001b[39m\u001b[39m.\u001b[39mobj)\n\u001b[1;32m--> 967\u001b[0m \u001b[39mreturn\u001b[39;00m \u001b[39mself\u001b[39;49m\u001b[39m.\u001b[39;49m_getitem_axis(maybe_callable, axis\u001b[39m=\u001b[39;49maxis)\n",
      "File \u001b[1;32mc:\\Users\\patry\\AppData\\Local\\Programs\\Python\\Python310\\lib\\site-packages\\pandas\\core\\indexing.py:1511\u001b[0m, in \u001b[0;36m_iLocIndexer._getitem_axis\u001b[1;34m(self, key, axis)\u001b[0m\n\u001b[0;32m   1509\u001b[0m \u001b[39m# a list of integers\u001b[39;00m\n\u001b[0;32m   1510\u001b[0m \u001b[39melif\u001b[39;00m is_list_like_indexer(key):\n\u001b[1;32m-> 1511\u001b[0m     \u001b[39mreturn\u001b[39;00m \u001b[39mself\u001b[39;49m\u001b[39m.\u001b[39;49m_get_list_axis(key, axis\u001b[39m=\u001b[39;49maxis)\n\u001b[0;32m   1513\u001b[0m \u001b[39m# a single integer\u001b[39;00m\n\u001b[0;32m   1514\u001b[0m \u001b[39melse\u001b[39;00m:\n\u001b[0;32m   1515\u001b[0m     key \u001b[39m=\u001b[39m item_from_zerodim(key)\n",
      "File \u001b[1;32mc:\\Users\\patry\\AppData\\Local\\Programs\\Python\\Python310\\lib\\site-packages\\pandas\\core\\indexing.py:1485\u001b[0m, in \u001b[0;36m_iLocIndexer._get_list_axis\u001b[1;34m(self, key, axis)\u001b[0m\n\u001b[0;32m   1482\u001b[0m     \u001b[39mreturn\u001b[39;00m \u001b[39mself\u001b[39m\u001b[39m.\u001b[39mobj\u001b[39m.\u001b[39m_take_with_is_copy(key, axis\u001b[39m=\u001b[39maxis)\n\u001b[0;32m   1483\u001b[0m \u001b[39mexcept\u001b[39;00m \u001b[39mIndexError\u001b[39;00m \u001b[39mas\u001b[39;00m err:\n\u001b[0;32m   1484\u001b[0m     \u001b[39m# re-raise with different error message\u001b[39;00m\n\u001b[1;32m-> 1485\u001b[0m     \u001b[39mraise\u001b[39;00m \u001b[39mIndexError\u001b[39;00m(\u001b[39m\"\u001b[39m\u001b[39mpositional indexers are out-of-bounds\u001b[39m\u001b[39m\"\u001b[39m) \u001b[39mfrom\u001b[39;00m \u001b[39merr\u001b[39;00m\n",
      "\u001b[1;31mIndexError\u001b[0m: positional indexers are out-of-bounds"
     ]
    }
   ],
   "source": [
    "print(len(df_text))\n",
    "print(len(df))\n",
    "df_text.iloc[[1896]]"
   ]
  },
  {
   "cell_type": "code",
   "execution_count": 39,
   "metadata": {},
   "outputs": [],
   "source": [
    "df_text.to_csv(\"Dataset2.csv\", index = False, encoding = \"utf-8\")"
   ]
  },
  {
   "cell_type": "code",
   "execution_count": 2,
   "metadata": {},
   "outputs": [],
   "source": [
    "df_text = pd.read_csv(\"H:\\AI_Song_Writer\\Dataset2.csv\")"
   ]
  },
  {
   "cell_type": "code",
   "execution_count": 11,
   "metadata": {},
   "outputs": [],
   "source": [
    "# df_text.head(20)"
   ]
  },
  {
   "cell_type": "code",
   "execution_count": 14,
   "metadata": {},
   "outputs": [
    {
     "data": {
      "text/plain": [
       "316"
      ]
     },
     "execution_count": 14,
     "metadata": {},
     "output_type": "execute_result"
    }
   ],
   "source": [
    "df_text[\"English\"].isna().sum()"
   ]
  },
  {
   "cell_type": "code",
   "execution_count": 13,
   "metadata": {},
   "outputs": [],
   "source": [
    "# 400 wiersz - polski i angielski razem (dla pierwszych dwoch z listy new)\n",
    "# df_text.iloc[[1509]]"
   ]
  },
  {
   "cell_type": "code",
   "execution_count": 12,
   "metadata": {},
   "outputs": [],
   "source": [
    "# df_text.iloc[[799]]"
   ]
  },
  {
   "cell_type": "code",
   "execution_count": 5,
   "metadata": {},
   "outputs": [
    {
     "data": {
      "text/plain": [
       "0"
      ]
     },
     "execution_count": 5,
     "metadata": {},
     "output_type": "execute_result"
    }
   ],
   "source": [
    "df.duplicated().sum()"
   ]
  },
  {
   "cell_type": "code",
   "execution_count": 6,
   "metadata": {},
   "outputs": [
    {
     "data": {
      "text/html": [
       "<div>\n",
       "<style scoped>\n",
       "    .dataframe tbody tr th:only-of-type {\n",
       "        vertical-align: middle;\n",
       "    }\n",
       "\n",
       "    .dataframe tbody tr th {\n",
       "        vertical-align: top;\n",
       "    }\n",
       "\n",
       "    .dataframe thead th {\n",
       "        text-align: right;\n",
       "    }\n",
       "</style>\n",
       "<table border=\"1\" class=\"dataframe\">\n",
       "  <thead>\n",
       "    <tr style=\"text-align: right;\">\n",
       "      <th></th>\n",
       "      <th>Link</th>\n",
       "    </tr>\n",
       "  </thead>\n",
       "  <tbody>\n",
       "    <tr>\n",
       "      <th>79</th>\n",
       "      <td>https://www.tekstowo.pl/piosenka,taylor_swift,dorothea.html</td>\n",
       "    </tr>\n",
       "  </tbody>\n",
       "</table>\n",
       "</div>"
      ],
      "text/plain": [
       "                                                           Link\n",
       "79  https://www.tekstowo.pl/piosenka,taylor_swift,dorothea.html"
      ]
     },
     "execution_count": 6,
     "metadata": {},
     "output_type": "execute_result"
    }
   ],
   "source": [
    "df[df[\"Link\"] == \"https://www.tekstowo.pl/piosenka,taylor_swift,dorothea.html\"]"
   ]
  }
 ],
 "metadata": {
  "kernelspec": {
   "display_name": "Python 3",
   "language": "python",
   "name": "python3"
  },
  "language_info": {
   "codemirror_mode": {
    "name": "ipython",
    "version": 3
   },
   "file_extension": ".py",
   "mimetype": "text/x-python",
   "name": "python",
   "nbconvert_exporter": "python",
   "pygments_lexer": "ipython3",
   "version": "3.10.8"
  },
  "orig_nbformat": 4
 },
 "nbformat": 4,
 "nbformat_minor": 2
}
